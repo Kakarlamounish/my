{
 "cells": [
  {
   "cell_type": "code",
   "execution_count": 6,
   "id": "8be9a209-dc38-4344-8f0d-a2e11c538ca8",
   "metadata": {},
   "outputs": [
    {
     "data": {
      "text/plain": [
       "'a'"
      ]
     },
     "execution_count": 6,
     "metadata": {},
     "output_type": "execute_result"
    }
   ],
   "source": [
    "chr(97)"
   ]
  },
  {
   "cell_type": "code",
   "execution_count": 8,
   "id": "84904474-27a9-484f-9499-7c00516d4f61",
   "metadata": {},
   "outputs": [
    {
     "data": {
      "text/plain": [
       "113"
      ]
     },
     "execution_count": 8,
     "metadata": {},
     "output_type": "execute_result"
    }
   ],
   "source": [
    "ord('q')\n"
   ]
  },
  {
   "cell_type": "markdown",
   "id": "e7e76550-0030-4011-8943-d18cb1ddc1c9",
   "metadata": {},
   "source": [
    "name=\"Mounish\""
   ]
  },
  {
   "cell_type": "code",
   "execution_count": 11,
   "id": "b01f3f57-e8db-4c4b-a478-b6ddec27656b",
   "metadata": {},
   "outputs": [
    {
     "data": {
      "text/plain": [
       "7"
      ]
     },
     "execution_count": 11,
     "metadata": {},
     "output_type": "execute_result"
    }
   ],
   "source": [
    "name=\"Mounish\"\n",
    "len(name)"
   ]
  },
  {
   "cell_type": "code",
   "execution_count": 12,
   "id": "1e10c403-7933-4bfb-8720-b075c825ae38",
   "metadata": {},
   "outputs": [
    {
     "data": {
      "text/plain": [
       "'M'"
      ]
     },
     "execution_count": 12,
     "metadata": {},
     "output_type": "execute_result"
    }
   ],
   "source": [
    "name[0]"
   ]
  },
  {
   "cell_type": "code",
   "execution_count": 13,
   "id": "a8bf1b18-c2d9-4cf4-b6c0-74dc0c34a19d",
   "metadata": {},
   "outputs": [
    {
     "data": {
      "text/plain": [
       "'Mou'"
      ]
     },
     "execution_count": 13,
     "metadata": {},
     "output_type": "execute_result"
    }
   ],
   "source": [
    "name[0:3]"
   ]
  },
  {
   "cell_type": "code",
   "execution_count": 17,
   "id": "b673efe3-7ff8-42c2-8a1b-6155e6549c55",
   "metadata": {},
   "outputs": [
    {
     "data": {
      "text/plain": [
       "'hsinuoM'"
      ]
     },
     "execution_count": 17,
     "metadata": {},
     "output_type": "execute_result"
    }
   ],
   "source": [
    "name[-1:-8:-1]"
   ]
  },
  {
   "cell_type": "code",
   "execution_count": 15,
   "id": "14585c17-f2a4-461a-bc5d-060e64e2284f",
   "metadata": {},
   "outputs": [
    {
     "data": {
      "text/plain": [
       "'hsinuoM'"
      ]
     },
     "execution_count": 15,
     "metadata": {},
     "output_type": "execute_result"
    }
   ],
   "source": [
    "name[::-1]"
   ]
  },
  {
   "cell_type": "code",
   "execution_count": 18,
   "id": "89a922e1-2c12-4033-8992-8e3412e6e457",
   "metadata": {},
   "outputs": [
    {
     "data": {
      "text/plain": [
       "'hsinuoM'"
      ]
     },
     "execution_count": 18,
     "metadata": {},
     "output_type": "execute_result"
    }
   ],
   "source": [
    "name[-1:-(len(name)+1):-1]"
   ]
  },
  {
   "cell_type": "code",
   "execution_count": 19,
   "id": "b56708e2-b837-4028-a5d5-efbb74878cef",
   "metadata": {},
   "outputs": [],
   "source": [
    "name1=\"Rahul paladugu\""
   ]
  },
  {
   "cell_type": "code",
   "execution_count": 21,
   "id": "eca6cfaa-b071-4937-af1f-18b4dbadae13",
   "metadata": {},
   "outputs": [
    {
     "data": {
      "text/plain": [
       "'Rahul paladugu'"
      ]
     },
     "execution_count": 21,
     "metadata": {},
     "output_type": "execute_result"
    }
   ],
   "source": [
    "name1.capitalize()"
   ]
  },
  {
   "cell_type": "code",
   "execution_count": 22,
   "id": "61bc11f8-9762-4a8c-b8ed-21dd5481b0b7",
   "metadata": {},
   "outputs": [
    {
     "data": {
      "text/plain": [
       "'Rahul Paladugu'"
      ]
     },
     "execution_count": 22,
     "metadata": {},
     "output_type": "execute_result"
    }
   ],
   "source": [
    "name1.title()"
   ]
  },
  {
   "cell_type": "code",
   "execution_count": 23,
   "id": "981d4473-a980-46d8-857e-9dd8243741cf",
   "metadata": {},
   "outputs": [
    {
     "data": {
      "text/plain": [
       "'RAHUL PALADUGU'"
      ]
     },
     "execution_count": 23,
     "metadata": {},
     "output_type": "execute_result"
    }
   ],
   "source": [
    "name1.upper()"
   ]
  },
  {
   "cell_type": "code",
   "execution_count": 24,
   "id": "c1d303df-232a-4f5d-9c21-b4f507dd8e9d",
   "metadata": {},
   "outputs": [
    {
     "data": {
      "text/plain": [
       "'rahul paladugu'"
      ]
     },
     "execution_count": 24,
     "metadata": {},
     "output_type": "execute_result"
    }
   ],
   "source": [
    "name1.lower()"
   ]
  },
  {
   "cell_type": "code",
   "execution_count": 25,
   "id": "0f0364ca-ccf6-406c-a7ef-519544496414",
   "metadata": {},
   "outputs": [
    {
     "data": {
      "text/plain": [
       "1"
      ]
     },
     "execution_count": 25,
     "metadata": {},
     "output_type": "execute_result"
    }
   ],
   "source": [
    "name1.find(\"a\")"
   ]
  },
  {
   "cell_type": "code",
   "execution_count": 26,
   "id": "13c22f36-ecf8-4145-a02c-090ccd870ee8",
   "metadata": {},
   "outputs": [
    {
     "data": {
      "text/plain": [
       "3"
      ]
     },
     "execution_count": 26,
     "metadata": {},
     "output_type": "execute_result"
    }
   ],
   "source": [
    "name1.count(\"u\")"
   ]
  },
  {
   "cell_type": "code",
   "execution_count": 27,
   "id": "662222e8-57d0-4d61-b0b0-f8856fb0547d",
   "metadata": {},
   "outputs": [
    {
     "data": {
      "text/plain": [
       "3"
      ]
     },
     "execution_count": 27,
     "metadata": {},
     "output_type": "execute_result"
    }
   ],
   "source": [
    "name1.index(\"u\")"
   ]
  },
  {
   "cell_type": "code",
   "execution_count": 28,
   "id": "00760607-a684-44bd-a823-a52d681b5579",
   "metadata": {},
   "outputs": [
    {
     "data": {
      "text/plain": [
       "'Rahul chaser'"
      ]
     },
     "execution_count": 28,
     "metadata": {},
     "output_type": "execute_result"
    }
   ],
   "source": [
    "name1.replace(\"paladugu\",\"chaser\")"
   ]
  },
  {
   "cell_type": "code",
   "execution_count": 30,
   "id": "883178f1-aeaf-4161-b502-49640aab0bf1",
   "metadata": {},
   "outputs": [
    {
     "data": {
      "text/plain": [
       "['Rahul', 'paladugu']"
      ]
     },
     "execution_count": 30,
     "metadata": {},
     "output_type": "execute_result"
    }
   ],
   "source": [
    "name1.split()"
   ]
  },
  {
   "cell_type": "code",
   "execution_count": 31,
   "id": "428a3f9f-bc5d-436c-acc7-514141219ce4",
   "metadata": {},
   "outputs": [
    {
     "data": {
      "text/plain": [
       "['R', 'hul p', 'l', 'dugu']"
      ]
     },
     "execution_count": 31,
     "metadata": {},
     "output_type": "execute_result"
    }
   ],
   "source": [
    "name1.split(\"a\")"
   ]
  },
  {
   "cell_type": "code",
   "execution_count": 32,
   "id": "68bfafa6-7cd9-4fd6-a9aa-35c5018445a0",
   "metadata": {},
   "outputs": [
    {
     "data": {
      "text/plain": [
       "False"
      ]
     },
     "execution_count": 32,
     "metadata": {},
     "output_type": "execute_result"
    }
   ],
   "source": [
    "name1.isupper()"
   ]
  },
  {
   "cell_type": "code",
   "execution_count": 34,
   "id": "aedcaf58-f850-4305-98cc-ab3df11e47a8",
   "metadata": {},
   "outputs": [
    {
     "data": {
      "text/plain": [
       "False"
      ]
     },
     "execution_count": 34,
     "metadata": {},
     "output_type": "execute_result"
    }
   ],
   "source": [
    "name1.islower()"
   ]
  },
  {
   "cell_type": "code",
   "execution_count": 35,
   "id": "0cfb51fe-e62c-488d-8711-7e9f73dd2d03",
   "metadata": {},
   "outputs": [
    {
     "data": {
      "text/plain": [
       "False"
      ]
     },
     "execution_count": 35,
     "metadata": {},
     "output_type": "execute_result"
    }
   ],
   "source": [
    "name1.isnumeric()"
   ]
  },
  {
   "cell_type": "code",
   "execution_count": 36,
   "id": "d21cad04-ed18-4872-840e-e2342c5108b1",
   "metadata": {},
   "outputs": [
    {
     "data": {
      "text/plain": [
       "False"
      ]
     },
     "execution_count": 36,
     "metadata": {},
     "output_type": "execute_result"
    }
   ],
   "source": [
    "name1.isalpha()"
   ]
  },
  {
   "cell_type": "code",
   "execution_count": 39,
   "id": "87b2eba6-7137-4545-acf3-3609fe43b16f",
   "metadata": {},
   "outputs": [
    {
     "name": "stdin",
     "output_type": "stream",
     "text": [
      " naveen\n",
      " 26\n"
     ]
    },
    {
     "name": "stdout",
     "output_type": "stream",
     "text": [
      "Hey my name is naveen.My age is 26.\n"
     ]
    }
   ],
   "source": [
    "name=input()\n",
    "age=int(input())\n",
    "\n",
    "print(f\"Hey my name is {name}.My age is {age}.\")"
   ]
  },
  {
   "cell_type": "code",
   "execution_count": 43,
   "id": "3b96763a-02a0-4b43-b498-82d3cde6c5c1",
   "metadata": {},
   "outputs": [
    {
     "name": "stdin",
     "output_type": "stream",
     "text": [
      " mounish\n",
      " kakarla\n"
     ]
    },
    {
     "name": "stdout",
     "output_type": "stream",
     "text": [
      "mounishkakarla\n"
     ]
    }
   ],
   "source": [
    "first=input()\n",
    "second=input()\n",
    "print(first+ second)"
   ]
  },
  {
   "cell_type": "code",
   "execution_count": 45,
   "id": "ab7f5466-7ed9-4bb1-8858-efe8e8c8869f",
   "metadata": {},
   "outputs": [
    {
     "name": "stdout",
     "output_type": "stream",
     "text": [
      "e u i o o u o e e a o "
     ]
    }
   ],
   "source": [
    "text=\"the quick brown fox jumps over the lazy dog\"\n",
    "for i in text:\n",
    "    if i==\"a\" or i==\"e\" or i==\"i\" or i==\"o\" or i==\"u\" :\n",
    "        print(i,end=\" \")"
   ]
  },
  {
   "cell_type": "code",
   "execution_count": 48,
   "id": "cd5bad56-0f02-40f6-8de3-8b673c0c3199",
   "metadata": {},
   "outputs": [
    {
     "name": "stdin",
     "output_type": "stream",
     "text": [
      " miss\n"
     ]
    },
    {
     "name": "stdout",
     "output_type": "stream",
     "text": [
      "it is not a pallindrome\n"
     ]
    }
   ],
   "source": [
    "s=input()\n",
    "if s==s[::-1]:\n",
    "    print(\"it is a pallindrome\")\n",
    "else:\n",
    "    print(\"it is not a pallindrome\")"
   ]
  },
  {
   "cell_type": "code",
   "execution_count": null,
   "id": "83462a0d-5556-4a56-b9c5-5819d6ea2ee2",
   "metadata": {},
   "outputs": [],
   "source": []
  }
 ],
 "metadata": {
  "kernelspec": {
   "display_name": "Python 3 (ipykernel)",
   "language": "python",
   "name": "python3"
  },
  "language_info": {
   "codemirror_mode": {
    "name": "ipython",
    "version": 3
   },
   "file_extension": ".py",
   "mimetype": "text/x-python",
   "name": "python",
   "nbconvert_exporter": "python",
   "pygments_lexer": "ipython3",
   "version": "3.12.4"
  }
 },
 "nbformat": 4,
 "nbformat_minor": 5
}
