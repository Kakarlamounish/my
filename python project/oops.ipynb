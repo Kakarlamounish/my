{
 "cells": [
  {
   "cell_type": "code",
   "execution_count": 4,
   "id": "44791b74-1520-4fbe-aa82-cf8aacdfcc2d",
   "metadata": {},
   "outputs": [],
   "source": [
    "class car:\n",
    "    pass"
   ]
  },
  {
   "cell_type": "code",
   "execution_count": 5,
   "id": "ac4de01f-0822-4858-9dac-4014808a812a",
   "metadata": {},
   "outputs": [],
   "source": [
    "honda=car()"
   ]
  },
  {
   "cell_type": "code",
   "execution_count": 6,
   "id": "848da4fa-96bc-476d-91bc-75bb0dda0bc3",
   "metadata": {},
   "outputs": [
    {
     "data": {
      "text/plain": [
       "__main__.car"
      ]
     },
     "execution_count": 6,
     "metadata": {},
     "output_type": "execute_result"
    }
   ],
   "source": [
    "type(honda)"
   ]
  },
  {
   "cell_type": "code",
   "execution_count": 38,
   "id": "537b1326-1b7a-4cfb-b662-0c625871c540",
   "metadata": {},
   "outputs": [],
   "source": [
    "#constuctor\n",
    "class Human:\n",
    "    def __init__(self):\n",
    "        print(\"this will always execute\")"
   ]
  },
  {
   "cell_type": "code",
   "execution_count": 39,
   "id": "bfaa56b2-64a4-4b1e-b6c1-63420d4f5377",
   "metadata": {},
   "outputs": [
    {
     "name": "stdout",
     "output_type": "stream",
     "text": [
      "<__main__.Human object at 0x0000016F472218B0>\n"
     ]
    }
   ],
   "source": [
    "print(rahul)"
   ]
  },
  {
   "cell_type": "code",
   "execution_count": 40,
   "id": "27911e6d-4636-4d5a-a999-f07bb73f60e6",
   "metadata": {},
   "outputs": [
    {
     "name": "stdout",
     "output_type": "stream",
     "text": [
      "this will always execute\n"
     ]
    }
   ],
   "source": [
    "rahul=Human()"
   ]
  },
  {
   "cell_type": "code",
   "execution_count": 41,
   "id": "4abef682-cd07-477e-9b78-eac5e4027019",
   "metadata": {},
   "outputs": [],
   "source": [
    "class human:\n",
    "    def __init__ (self,name,age,hobby):\n",
    "        self.name=name\n",
    "        self.age=age\n",
    "        self.hobby=hobby"
   ]
  },
  {
   "cell_type": "code",
   "execution_count": 46,
   "id": "75395c16-e9ec-402f-b016-d800ffbcc6ec",
   "metadata": {},
   "outputs": [],
   "source": [
    " mounish=human(\"mounish\",27,\"drifting\")"
   ]
  },
  {
   "cell_type": "code",
   "execution_count": 43,
   "id": "70775295-dde7-4f61-a76f-7bdcbd8effbb",
   "metadata": {},
   "outputs": [
    {
     "name": "stdout",
     "output_type": "stream",
     "text": [
      "<__main__.human object at 0x0000016F47223770>\n"
     ]
    }
   ],
   "source": [
    "print(mounish)"
   ]
  },
  {
   "cell_type": "code",
   "execution_count": 49,
   "id": "2493c460-68e2-4960-9a14-dfa4207093a7",
   "metadata": {},
   "outputs": [
    {
     "data": {
      "text/plain": [
       "'mounish'"
      ]
     },
     "execution_count": 49,
     "metadata": {},
     "output_type": "execute_result"
    }
   ],
   "source": [
    "mounish.name"
   ]
  },
  {
   "cell_type": "code",
   "execution_count": 50,
   "id": "fac34977-ba59-4288-932a-0afcb7a5fd14",
   "metadata": {},
   "outputs": [
    {
     "data": {
      "text/plain": [
       "27"
      ]
     },
     "execution_count": 50,
     "metadata": {},
     "output_type": "execute_result"
    }
   ],
   "source": [
    "mounish.age"
   ]
  },
  {
   "cell_type": "code",
   "execution_count": 51,
   "id": "b7c80823-7425-47b5-92b4-f5b3f26f9839",
   "metadata": {},
   "outputs": [
    {
     "data": {
      "text/plain": [
       "'drifting'"
      ]
     },
     "execution_count": 51,
     "metadata": {},
     "output_type": "execute_result"
    }
   ],
   "source": [
    "mounish.hobby"
   ]
  },
  {
   "cell_type": "code",
   "execution_count": 56,
   "id": "4bd7dc26-d40a-44fd-a3f6-a676b252d67a",
   "metadata": {},
   "outputs": [],
   "source": [
    "#methods\n",
    "class human:\n",
    "    def __init__ (self,name,age,hobby):\n",
    "        self.name=name\n",
    "        self.age=age\n",
    "        self.hobby=hobby\n",
    "    def greet (self):\n",
    "        print(f\"Hey my name is {self.name}.good morning!!\")"
   ]
  },
  {
   "cell_type": "code",
   "execution_count": 57,
   "id": "454fac79-c9dd-44b3-a575-5c5137412fb3",
   "metadata": {},
   "outputs": [],
   "source": [
    "balaji=human(\"Balaji\",23,\"cricket\")"
   ]
  },
  {
   "cell_type": "code",
   "execution_count": 58,
   "id": "ea3e3646-96b4-40bd-820e-35d1fe99c95b",
   "metadata": {},
   "outputs": [
    {
     "name": "stdout",
     "output_type": "stream",
     "text": [
      "Hey my name is Balaji. good morning!!\n"
     ]
    }
   ],
   "source": [
    "balaji.greet()"
   ]
  },
  {
   "cell_type": "code",
   "execution_count": 59,
   "id": "caf586ef-be4c-4c3b-a8bc-23e490db33d2",
   "metadata": {},
   "outputs": [],
   "source": [
    "balaji.nationality=\"indian\""
   ]
  },
  {
   "cell_type": "code",
   "execution_count": 60,
   "id": "4a028970-e4b6-4bce-8059-acdca25d41a4",
   "metadata": {},
   "outputs": [
    {
     "data": {
      "text/plain": [
       "'indian'"
      ]
     },
     "execution_count": 60,
     "metadata": {},
     "output_type": "execute_result"
    }
   ],
   "source": [
    "balaji.nationality"
   ]
  },
  {
   "cell_type": "code",
   "execution_count": 81,
   "id": "0726ec78-7daf-4210-91a3-59b10d407474",
   "metadata": {},
   "outputs": [],
   "source": [
    "#class varaiable\n",
    "class human:\n",
    "    population=0\n",
    "    data=[]\n",
    "    def __init__(self,name,age):\n",
    "        self.name=name\n",
    "        self.age=age\n",
    "        human.population+=1\n",
    "        human.data.append(self.name)\n",
    "    def greet (self):\n",
    "         \n",
    "        print(f\"Hey my name is {self.name}.good morning!!\")\n",
    "    "
   ]
  },
  {
   "cell_type": "code",
   "execution_count": 83,
   "id": "b8a8f817-2e91-4bf7-9416-6ac36d142bc5",
   "metadata": {},
   "outputs": [],
   "source": [
    "mounish=human(\"mounish\",25)"
   ]
  },
  {
   "cell_type": "code",
   "execution_count": 84,
   "id": "a609f8c5-0ac4-4619-9d49-86a16adccb5c",
   "metadata": {},
   "outputs": [
    {
     "data": {
      "text/plain": [
       "'mounish'"
      ]
     },
     "execution_count": 84,
     "metadata": {},
     "output_type": "execute_result"
    }
   ],
   "source": [
    "mounish.name\n"
   ]
  },
  {
   "cell_type": "code",
   "execution_count": 85,
   "id": "e0244787-1cc9-40f3-b78b-9a416d508d47",
   "metadata": {},
   "outputs": [
    {
     "data": {
      "text/plain": [
       "1"
      ]
     },
     "execution_count": 85,
     "metadata": {},
     "output_type": "execute_result"
    }
   ],
   "source": [
    "human.population"
   ]
  },
  {
   "cell_type": "code",
   "execution_count": 86,
   "id": "d3325ace-566a-4b5f-85d1-7a84491f9d5b",
   "metadata": {},
   "outputs": [],
   "source": [
    "mallesh=human(\"mallesh\",25)"
   ]
  },
  {
   "cell_type": "code",
   "execution_count": 87,
   "id": "1b4aa2c7-2571-490f-8b83-1cbefabeba22",
   "metadata": {},
   "outputs": [
    {
     "data": {
      "text/plain": [
       "2"
      ]
     },
     "execution_count": 87,
     "metadata": {},
     "output_type": "execute_result"
    }
   ],
   "source": [
    "human.population"
   ]
  },
  {
   "cell_type": "code",
   "execution_count": 88,
   "id": "62ff7fdc-db4e-49db-8aa0-fcdfe2de3fca",
   "metadata": {},
   "outputs": [
    {
     "data": {
      "text/plain": [
       "['mounish', 'mallesh']"
      ]
     },
     "execution_count": 88,
     "metadata": {},
     "output_type": "execute_result"
    }
   ],
   "source": [
    "human.data"
   ]
  },
  {
   "cell_type": "code",
   "execution_count": 92,
   "id": "23f7307e-efa2-45f3-a8b6-5e97ed77bf56",
   "metadata": {},
   "outputs": [],
   "source": [
    "class human:\n",
    "    population=0\n",
    "    data=[]\n",
    "    def __init__(self,name,age,alive=True):\n",
    "        self.name=name\n",
    "        self.age=age\n",
    "        self.alive=alive\n",
    "        human.population+=1\n",
    "        human.data.append(self.name)\n",
    "    def greet (self):\n",
    "         \n",
    "        print(f\"Hey my name is {self.name}.good morning!!\")\n",
    "    def dead(self):\n",
    "        if self.alive:\n",
    "            print(self.name,\"Is no more now\")\n",
    "            human.population-=1\n",
    "            self.alive=False\n",
    "        else:\n",
    "            print(\"This persom is already dead\")\n",
    "    "
   ]
  },
  {
   "cell_type": "code",
   "execution_count": 93,
   "id": "d599d6f6-5a6b-461a-adb8-e21955a029a3",
   "metadata": {},
   "outputs": [],
   "source": [
    "h1=human(\"H1\",21)"
   ]
  },
  {
   "cell_type": "code",
   "execution_count": 94,
   "id": "e1e05a45-4300-43d4-8b9d-a4b63a7abe29",
   "metadata": {},
   "outputs": [],
   "source": [
    "h2=human(\"H2\",23)"
   ]
  },
  {
   "cell_type": "code",
   "execution_count": 95,
   "id": "8abade3c-e412-45f5-a9c2-1cd8b5e9c0ea",
   "metadata": {},
   "outputs": [
    {
     "data": {
      "text/plain": [
       "2"
      ]
     },
     "execution_count": 95,
     "metadata": {},
     "output_type": "execute_result"
    }
   ],
   "source": [
    "human.population"
   ]
  },
  {
   "cell_type": "code",
   "execution_count": 96,
   "id": "168c1b39-2880-4421-b2b3-b1fa3e5e96e4",
   "metadata": {},
   "outputs": [
    {
     "name": "stdout",
     "output_type": "stream",
     "text": [
      "H1 Is no more now\n"
     ]
    }
   ],
   "source": [
    "h1.dead()"
   ]
  },
  {
   "cell_type": "code",
   "execution_count": 97,
   "id": "9d4a1e52-4ca5-4421-9cf2-3d9f0d079275",
   "metadata": {},
   "outputs": [
    {
     "name": "stdout",
     "output_type": "stream",
     "text": [
      "This persom is already dead\n"
     ]
    }
   ],
   "source": [
    "h1.dead()"
   ]
  },
  {
   "cell_type": "code",
   "execution_count": 175,
   "id": "4a115b60-7809-443e-8450-8460cb77df0d",
   "metadata": {},
   "outputs": [],
   "source": [
    "class human:\n",
    "    population=0\n",
    "    data=[]\n",
    "    def __init__(self,name,age,alive=True):\n",
    "        self.name=name\n",
    "        self.age=age\n",
    "        self.alive=alive\n",
    "        human.population+=1\n",
    "        human.data.append(self.name)\n",
    "    def greet (self):\n",
    "         \n",
    "        print(f\"Hey my name is {self.name}.good morning!!\")\n",
    "    def dead(self):\n",
    "        if self.alive:\n",
    "            print(self.name,\"Is no more now\")\n",
    "            human.population-=1\n",
    "            self.alive=False\n",
    "        else:\n",
    "            print(\"This persom is already dead\")\n",
    "    def child(self,number):\n",
    "        human.population+=number\n",
    "    "
   ]
  },
  {
   "cell_type": "code",
   "execution_count": 176,
   "id": "5dea4b6b-2dbf-41bf-b606-84766aef81e4",
   "metadata": {},
   "outputs": [],
   "source": [
    "h3=human(\"adam\",24)"
   ]
  },
  {
   "cell_type": "code",
   "execution_count": 177,
   "id": "c71519ea-bea2-487d-b7a3-44019b12903b",
   "metadata": {},
   "outputs": [
    {
     "data": {
      "text/plain": [
       "1"
      ]
     },
     "execution_count": 177,
     "metadata": {},
     "output_type": "execute_result"
    }
   ],
   "source": [
    "human.population"
   ]
  },
  {
   "cell_type": "code",
   "execution_count": 178,
   "id": "f3e9a5d7-ea9c-486a-bf85-83d3f500616f",
   "metadata": {},
   "outputs": [],
   "source": [
    "h1=human(\"H1\",21)"
   ]
  },
  {
   "cell_type": "code",
   "execution_count": 179,
   "id": "60191fab-71d0-42de-8ee8-8ed3e63e9772",
   "metadata": {},
   "outputs": [],
   "source": [
    "h2=human(\"H2\",23)"
   ]
  },
  {
   "cell_type": "code",
   "execution_count": 180,
   "id": "efc76939-128b-481b-bc6a-b6dea78f54b8",
   "metadata": {},
   "outputs": [
    {
     "data": {
      "text/plain": [
       "3"
      ]
     },
     "execution_count": 180,
     "metadata": {},
     "output_type": "execute_result"
    }
   ],
   "source": [
    "human.population"
   ]
  },
  {
   "cell_type": "code",
   "execution_count": 181,
   "id": "5e2e982d-9dbc-4e9a-b3b8-06b2ca2feefe",
   "metadata": {},
   "outputs": [
    {
     "name": "stdout",
     "output_type": "stream",
     "text": [
      "H1 Is no more now\n"
     ]
    }
   ],
   "source": [
    "h1.dead()"
   ]
  },
  {
   "cell_type": "code",
   "execution_count": 182,
   "id": "fdfa9d2a-9f79-419f-bbec-ac22309d3166",
   "metadata": {},
   "outputs": [
    {
     "name": "stdout",
     "output_type": "stream",
     "text": [
      "This persom is already dead\n"
     ]
    }
   ],
   "source": [
    "h1.dead()"
   ]
  },
  {
   "cell_type": "code",
   "execution_count": 183,
   "id": "3b129be5-a35c-46d2-800f-c20ce89c9ff8",
   "metadata": {},
   "outputs": [],
   "source": [
    "h3.child(1)"
   ]
  },
  {
   "cell_type": "code",
   "execution_count": 184,
   "id": "11f4a67b-4fed-4571-b2aa-c56769aef0fb",
   "metadata": {},
   "outputs": [
    {
     "data": {
      "text/plain": [
       "3"
      ]
     },
     "execution_count": 184,
     "metadata": {},
     "output_type": "execute_result"
    }
   ],
   "source": [
    "human.population"
   ]
  },
  {
   "cell_type": "code",
   "execution_count": 185,
   "id": "16598b77-bad7-446e-95c9-523f7cb1dd8c",
   "metadata": {},
   "outputs": [
    {
     "data": {
      "text/plain": [
       "['adam', 'H1', 'H2']"
      ]
     },
     "execution_count": 185,
     "metadata": {},
     "output_type": "execute_result"
    }
   ],
   "source": [
    "human.data"
   ]
  },
  {
   "cell_type": "code",
   "execution_count": 186,
   "id": "35f94025-8541-4541-8098-b727baa6a7c1",
   "metadata": {},
   "outputs": [],
   "source": [
    "#inheritance\n",
    "class employee(human):\n",
    "    pass"
   ]
  },
  {
   "cell_type": "code",
   "execution_count": 125,
   "id": "3fb0b13f-ff63-48dd-84bc-e352cc204ba5",
   "metadata": {},
   "outputs": [],
   "source": [
    "e1=employee(\"mounish\",24)"
   ]
  },
  {
   "cell_type": "code",
   "execution_count": 126,
   "id": "342e4212-7048-4601-a3a3-26e6a5c5aa44",
   "metadata": {},
   "outputs": [
    {
     "data": {
      "text/plain": [
       "6"
      ]
     },
     "execution_count": 126,
     "metadata": {},
     "output_type": "execute_result"
    }
   ],
   "source": [
    "human.population"
   ]
  },
  {
   "cell_type": "code",
   "execution_count": 127,
   "id": "4d307f9e-c92b-4f9d-a71a-8a09c48d0cd0",
   "metadata": {},
   "outputs": [
    {
     "data": {
      "text/plain": [
       "['adam', 'H1', 'H2', 'mounish']"
      ]
     },
     "execution_count": 127,
     "metadata": {},
     "output_type": "execute_result"
    }
   ],
   "source": [
    "human.data"
   ]
  },
  {
   "cell_type": "code",
   "execution_count": 128,
   "id": "7602e170-4116-4e76-9877-3ef520e7bd74",
   "metadata": {},
   "outputs": [
    {
     "name": "stdout",
     "output_type": "stream",
     "text": [
      "Hey my name is mounish.good morning!!\n"
     ]
    }
   ],
   "source": [
    "e1.greet()"
   ]
  },
  {
   "cell_type": "code",
   "execution_count": 187,
   "id": "cf22b5ce-1b62-4477-b80d-10e2b8688e07",
   "metadata": {},
   "outputs": [],
   "source": [
    "class employee(human):\n",
    "    def __init__(self,name,age,company,post):\n",
    "        super().__init__(name,age)\n",
    "        self.company=company\n",
    "        self.post=post\n",
    "    def hire(self,person):\n",
    "        print(f\"{person} has been hired in our company\")\n",
    "        human.data.append(person)\n",
    "        human.population+=1"
   ]
  },
  {
   "cell_type": "code",
   "execution_count": 188,
   "id": "0b79dedf-099e-4dee-9f13-1ec6d9b8847a",
   "metadata": {},
   "outputs": [],
   "source": [
    "rohit=employee(\"rohit\",25,\"google\",\"ceo\")"
   ]
  },
  {
   "cell_type": "code",
   "execution_count": 189,
   "id": "d37ad4a3-ea2f-4cd6-9950-e540adbf8670",
   "metadata": {},
   "outputs": [
    {
     "data": {
      "text/plain": [
       "4"
      ]
     },
     "execution_count": 189,
     "metadata": {},
     "output_type": "execute_result"
    }
   ],
   "source": [
    "human.population"
   ]
  },
  {
   "cell_type": "code",
   "execution_count": 190,
   "id": "9ca542ce-115b-428b-aa22-b3192f916cfa",
   "metadata": {},
   "outputs": [
    {
     "data": {
      "text/plain": [
       "['adam', 'H1', 'H2', 'rohit']"
      ]
     },
     "execution_count": 190,
     "metadata": {},
     "output_type": "execute_result"
    }
   ],
   "source": [
    "human.data"
   ]
  },
  {
   "cell_type": "code",
   "execution_count": 191,
   "id": "56d3bcc1-dd9e-4a56-ab2e-972dd4515e71",
   "metadata": {},
   "outputs": [
    {
     "name": "stdout",
     "output_type": "stream",
     "text": [
      "virat has been hired in our company\n"
     ]
    }
   ],
   "source": [
    "rohit.hire(\"virat\")"
   ]
  },
  {
   "cell_type": "code",
   "execution_count": 192,
   "id": "06af780f-0cdc-45c2-bc37-8332cbfdf256",
   "metadata": {},
   "outputs": [
    {
     "data": {
      "text/plain": [
       "5"
      ]
     },
     "execution_count": 192,
     "metadata": {},
     "output_type": "execute_result"
    }
   ],
   "source": [
    "human.population"
   ]
  },
  {
   "cell_type": "code",
   "execution_count": 193,
   "id": "3a4701ce-10e1-426f-a4d3-ea194b689d5c",
   "metadata": {},
   "outputs": [
    {
     "data": {
      "text/plain": [
       "['adam', 'H1', 'H2', 'rohit', 'virat']"
      ]
     },
     "execution_count": 193,
     "metadata": {},
     "output_type": "execute_result"
    }
   ],
   "source": [
    "human.data"
   ]
  },
  {
   "cell_type": "code",
   "execution_count": 194,
   "id": "53852de1-c084-4a87-b3b2-dc3fb7aef31f",
   "metadata": {},
   "outputs": [
    {
     "data": {
      "text/plain": [
       "4"
      ]
     },
     "execution_count": 194,
     "metadata": {},
     "output_type": "execute_result"
    }
   ],
   "source": [
    "#polymorphism\n",
    "2+2"
   ]
  },
  {
   "cell_type": "code",
   "execution_count": 195,
   "id": "307e37c1-4554-4c8a-8ca0-01d9c8f3b596",
   "metadata": {},
   "outputs": [
    {
     "data": {
      "text/plain": [
       "4.0"
      ]
     },
     "execution_count": 195,
     "metadata": {},
     "output_type": "execute_result"
    }
   ],
   "source": [
    "2*2.0"
   ]
  },
  {
   "cell_type": "code",
   "execution_count": 196,
   "id": "02c5c5bb-93b9-4703-a722-177508495a27",
   "metadata": {},
   "outputs": [
    {
     "data": {
      "text/plain": [
       "4"
      ]
     },
     "execution_count": 196,
     "metadata": {},
     "output_type": "execute_result"
    }
   ],
   "source": [
    "2*2"
   ]
  },
  {
   "cell_type": "code",
   "execution_count": 197,
   "id": "5ab3164c-cdcc-4872-85c3-7d839cd21f97",
   "metadata": {},
   "outputs": [],
   "source": [
    "l=[1,2,3,4]"
   ]
  },
  {
   "cell_type": "code",
   "execution_count": 198,
   "id": "4cbd40fd-329f-4006-bcff-5b50910e9419",
   "metadata": {},
   "outputs": [
    {
     "data": {
      "text/plain": [
       "4"
      ]
     },
     "execution_count": 198,
     "metadata": {},
     "output_type": "execute_result"
    }
   ],
   "source": [
    "len(l)"
   ]
  },
  {
   "cell_type": "code",
   "execution_count": 206,
   "id": "cc2ccb2e-7503-4fe6-8e28-004c73b4270e",
   "metadata": {},
   "outputs": [],
   "source": [
    "def mul(*args):\n",
    "    total=1\n",
    "    for i in args:\n",
    "        total*=i\n",
    "    return total"
   ]
  },
  {
   "cell_type": "code",
   "execution_count": 207,
   "id": "59efdca4-e3d9-4602-b60c-9e3ef2b2ddeb",
   "metadata": {},
   "outputs": [
    {
     "data": {
      "text/plain": [
       "24"
      ]
     },
     "execution_count": 207,
     "metadata": {},
     "output_type": "execute_result"
    }
   ],
   "source": [
    "mul(2,3,4)"
   ]
  },
  {
   "cell_type": "code",
   "execution_count": 208,
   "id": "875bd124-d42e-413a-a2e9-f4f11f296206",
   "metadata": {},
   "outputs": [],
   "source": [
    "class human:\n",
    "    def speak(self,language):\n",
    "        print(\"I speak\",language)"
   ]
  },
  {
   "cell_type": "code",
   "execution_count": 209,
   "id": "81192129-34a5-46c0-a44a-a3d962f0cdba",
   "metadata": {},
   "outputs": [],
   "source": [
    "h1=human()"
   ]
  },
  {
   "cell_type": "code",
   "execution_count": 210,
   "id": "f6b7e513-3523-444b-9fb1-53d11dc82270",
   "metadata": {},
   "outputs": [],
   "source": [
    "h2=human()"
   ]
  },
  {
   "cell_type": "code",
   "execution_count": 212,
   "id": "21bdc7b4-4af7-4a8f-b8e6-18da21da5730",
   "metadata": {},
   "outputs": [
    {
     "name": "stdout",
     "output_type": "stream",
     "text": [
      "I speak hindi\n"
     ]
    }
   ],
   "source": [
    "h1.speak(\"hindi\")"
   ]
  },
  {
   "cell_type": "code",
   "execution_count": 213,
   "id": "69b940f6-4856-4b9b-ad1c-79546fd23e44",
   "metadata": {},
   "outputs": [
    {
     "name": "stdout",
     "output_type": "stream",
     "text": [
      "I speak english\n"
     ]
    }
   ],
   "source": [
    "h2.speak(\"english\")\n"
   ]
  },
  {
   "cell_type": "code",
   "execution_count": null,
   "id": "f50f4c49-c717-471f-9655-7b61c4e2c65d",
   "metadata": {},
   "outputs": [],
   "source": []
  }
 ],
 "metadata": {
  "kernelspec": {
   "display_name": "Python 3 (ipykernel)",
   "language": "python",
   "name": "python3"
  },
  "language_info": {
   "codemirror_mode": {
    "name": "ipython",
    "version": 3
   },
   "file_extension": ".py",
   "mimetype": "text/x-python",
   "name": "python",
   "nbconvert_exporter": "python",
   "pygments_lexer": "ipython3",
   "version": "3.12.4"
  }
 },
 "nbformat": 4,
 "nbformat_minor": 5
}
