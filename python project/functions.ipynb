{
 "cells": [
  {
   "cell_type": "code",
   "execution_count": 1,
   "id": "4950f4dc-4d4e-4910-bc8d-79403cd790f6",
   "metadata": {},
   "outputs": [
    {
     "name": "stdout",
     "output_type": "stream",
     "text": [
      "<function greet at 0x000001548D868220>\n"
     ]
    }
   ],
   "source": [
    "def greet():\n",
    "    print(\"hey have a good day\")\n",
    "print(greet)"
   ]
  },
  {
   "cell_type": "code",
   "execution_count": 2,
   "id": "37554aec-c275-4852-9314-8d69923d9b53",
   "metadata": {},
   "outputs": [
    {
     "name": "stdout",
     "output_type": "stream",
     "text": [
      "hey have a good day\n"
     ]
    }
   ],
   "source": [
    "greet()"
   ]
  },
  {
   "cell_type": "code",
   "execution_count": 3,
   "id": "43434acb-8a08-44df-a078-11472427a64c",
   "metadata": {},
   "outputs": [],
   "source": [
    "def greet():\n",
    "    \"\"\"\n",
    "    this function greets everyone when it is called\n",
    "    \"\"\"\n",
    "    print(\"hey have a good day!!\")"
   ]
  },
  {
   "cell_type": "code",
   "execution_count": 4,
   "id": "6a3e61b0-56ed-4eb6-ac03-dea88a8fc283",
   "metadata": {},
   "outputs": [
    {
     "name": "stdout",
     "output_type": "stream",
     "text": [
      "hey have a good day!!\n"
     ]
    }
   ],
   "source": [
    "greet()"
   ]
  },
  {
   "cell_type": "code",
   "execution_count": 5,
   "id": "410976a5-320c-42a9-a809-1e3fedd8e2dd",
   "metadata": {},
   "outputs": [],
   "source": [
    "def greet(name):\n",
    "     print(\"hey how are you !!\",name)"
   ]
  },
  {
   "cell_type": "code",
   "execution_count": 6,
   "id": "cb87b357-652b-4506-a8e2-b0da26e9d37b",
   "metadata": {},
   "outputs": [
    {
     "name": "stdout",
     "output_type": "stream",
     "text": [
      "hey how are you !! rahul\n"
     ]
    }
   ],
   "source": [
    "greet(\"rahul\")"
   ]
  },
  {
   "cell_type": "code",
   "execution_count": 7,
   "id": "39df3d6e-2b1d-40e0-b962-e0993d2ea3d6",
   "metadata": {},
   "outputs": [],
   "source": [
    "def add(a,b):\n",
    "    c=a+b\n",
    "    print(c)"
   ]
  },
  {
   "cell_type": "code",
   "execution_count": 8,
   "id": "ba52ef79-bca4-45e4-a04c-51fee2fbe1fa",
   "metadata": {},
   "outputs": [
    {
     "name": "stdout",
     "output_type": "stream",
     "text": [
      "5\n"
     ]
    }
   ],
   "source": [
    "add(2,3)"
   ]
  },
  {
   "cell_type": "code",
   "execution_count": 13,
   "id": "6804e10f-1be0-448a-98c7-bb1bfe5f0469",
   "metadata": {},
   "outputs": [],
   "source": [
    "def add(a,b):\n",
    "    c=a+b\n",
    "    print(c)"
   ]
  },
  {
   "cell_type": "code",
   "execution_count": 14,
   "id": "084034c1-1e41-412d-a7c8-977eeeb268a3",
   "metadata": {},
   "outputs": [
    {
     "name": "stdout",
     "output_type": "stream",
     "text": [
      "7\n"
     ]
    }
   ],
   "source": [
    "add(3,4)"
   ]
  },
  {
   "cell_type": "code",
   "execution_count": 16,
   "id": "f24b0cf9-89b2-45d8-9ee6-0bb92e53dc64",
   "metadata": {},
   "outputs": [
    {
     "name": "stdout",
     "output_type": "stream",
     "text": [
      "7\n"
     ]
    },
    {
     "data": {
      "text/plain": [
       "NoneType"
      ]
     },
     "execution_count": 16,
     "metadata": {},
     "output_type": "execute_result"
    }
   ],
   "source": [
    "type(print(7))"
   ]
  },
  {
   "cell_type": "code",
   "execution_count": 17,
   "id": "d8558391-160b-47b5-8bae-130680aceb34",
   "metadata": {},
   "outputs": [
    {
     "name": "stdout",
     "output_type": "stream",
     "text": [
      "7 <class 'int'>\n"
     ]
    }
   ],
   "source": [
    "def add(a,b):\n",
    "    c=a+b\n",
    "    return c\n",
    "b=add(3,4)\n",
    "print(b,type(b))"
   ]
  },
  {
   "cell_type": "code",
   "execution_count": 18,
   "id": "42afe942-7a3b-4317-84c3-378ba5a2e577",
   "metadata": {},
   "outputs": [],
   "source": [
    "def func():\n",
    "    return"
   ]
  },
  {
   "cell_type": "code",
   "execution_count": 19,
   "id": "86db4b38-39e0-4aee-b180-a2fc7f9f47f6",
   "metadata": {},
   "outputs": [],
   "source": [
    "func()"
   ]
  },
  {
   "cell_type": "code",
   "execution_count": 20,
   "id": "bda6690d-9b38-4c1a-b197-e54c48c1a134",
   "metadata": {},
   "outputs": [],
   "source": [
    "c=func()"
   ]
  },
  {
   "cell_type": "code",
   "execution_count": 21,
   "id": "11dd5d28-2970-401b-a433-506ab8fe0848",
   "metadata": {},
   "outputs": [
    {
     "name": "stdout",
     "output_type": "stream",
     "text": [
      "None <class 'NoneType'>\n"
     ]
    }
   ],
   "source": [
    "print(c,type(c))"
   ]
  },
  {
   "cell_type": "code",
   "execution_count": 22,
   "id": "ec3944ed-25d1-42bd-a710-96bafa408fc4",
   "metadata": {},
   "outputs": [],
   "source": [
    "def func():\n",
    "    print(\"before return\") \n",
    "    return \"rahul\"\n",
    "    print(\"after return\")"
   ]
  },
  {
   "cell_type": "code",
   "execution_count": 23,
   "id": "ca658583-a438-4e7b-a4e5-7d4b728decb7",
   "metadata": {},
   "outputs": [
    {
     "name": "stdout",
     "output_type": "stream",
     "text": [
      "before return\n"
     ]
    },
    {
     "data": {
      "text/plain": [
       "'rahul'"
      ]
     },
     "execution_count": 23,
     "metadata": {},
     "output_type": "execute_result"
    }
   ],
   "source": [
    "func()"
   ]
  },
  {
   "cell_type": "code",
   "execution_count": 24,
   "id": "9de86f00-2064-4d15-8d06-0c7da59573a6",
   "metadata": {},
   "outputs": [
    {
     "name": "stdout",
     "output_type": "stream",
     "text": [
      "before return\n"
     ]
    }
   ],
   "source": [
    "a=func()"
   ]
  },
  {
   "cell_type": "code",
   "execution_count": 25,
   "id": "26beaaf0-7e2d-47d9-8941-48487d6f1dd0",
   "metadata": {},
   "outputs": [
    {
     "data": {
      "text/plain": [
       "'rahul'"
      ]
     },
     "execution_count": 25,
     "metadata": {},
     "output_type": "execute_result"
    }
   ],
   "source": [
    "a"
   ]
  },
  {
   "cell_type": "code",
   "execution_count": 26,
   "id": "c64d3d11-68fa-4782-931d-1421fa8abdae",
   "metadata": {},
   "outputs": [],
   "source": [
    "def intro(name,age,hobby):\n",
    "    return name, age ,hobby"
   ]
  },
  {
   "cell_type": "code",
   "execution_count": 27,
   "id": "0cde990f-3cbc-4cc5-83c6-0a0d384394e3",
   "metadata": {},
   "outputs": [
    {
     "name": "stdout",
     "output_type": "stream",
     "text": [
      "rahul 25 swim\n"
     ]
    }
   ],
   "source": [
    "c,d,e=intro(\"rahul\",25,\"swim\")\n",
    "print(c,d,e)"
   ]
  },
  {
   "cell_type": "code",
   "execution_count": 28,
   "id": "d85d93b6-59da-4aaa-802b-9f1ceb9ad0d7",
   "metadata": {},
   "outputs": [
    {
     "name": "stdout",
     "output_type": "stream",
     "text": [
      "('rahul', 25, 'swim') <class 'tuple'>\n"
     ]
    }
   ],
   "source": [
    "c=intro(\"rahul\",25,\"swim\")\n",
    "print(c,type(c))"
   ]
  },
  {
   "cell_type": "code",
   "execution_count": 29,
   "id": "5c2b6a6e-9ea2-4961-8d20-6347e1c3137b",
   "metadata": {},
   "outputs": [
    {
     "name": "stdout",
     "output_type": "stream",
     "text": [
      "5\n",
      "5\n"
     ]
    }
   ],
   "source": [
    "a=5\n",
    "def func():\n",
    "    print(a)\n",
    "func()\n",
    "print(a)"
   ]
  },
  {
   "cell_type": "code",
   "execution_count": 31,
   "id": "c82713ed-e308-4369-82e1-48c4418652ef",
   "metadata": {},
   "outputs": [
    {
     "name": "stdout",
     "output_type": "stream",
     "text": [
      "3\n",
      "5\n"
     ]
    }
   ],
   "source": [
    "a=5\n",
    "def func():\n",
    "    x=3\n",
    "    print(x)\n",
    "func()\n",
    "print(a)\n"
   ]
  },
  {
   "cell_type": "code",
   "execution_count": 32,
   "id": "c6f25eaf-46a8-4fd3-83c6-44d95364bd14",
   "metadata": {},
   "outputs": [
    {
     "name": "stdout",
     "output_type": "stream",
     "text": [
      "20\n",
      "5\n"
     ]
    }
   ],
   "source": [
    "a=5\n",
    "def func():\n",
    "    a=20\n",
    "    print(a)\n",
    "func()\n",
    "print(a)"
   ]
  },
  {
   "cell_type": "code",
   "execution_count": 36,
   "id": "755a0891-8e4d-4d0c-9f9a-a8cfc9bd9736",
   "metadata": {},
   "outputs": [
    {
     "name": "stdout",
     "output_type": "stream",
     "text": [
      "5\n",
      "20\n",
      "20\n"
     ]
    }
   ],
   "source": [
    "a=5\n",
    "def func():\n",
    "    global a\n",
    "    a=20\n",
    "    print(a)\n",
    "print(a)\n",
    "func()\n",
    "print(a)"
   ]
  },
  {
   "cell_type": "code",
   "execution_count": 40,
   "id": "5313268c-c1d5-46d3-b189-549cb85eccbc",
   "metadata": {},
   "outputs": [],
   "source": [
    "def add(a,b):\n",
    "    return a+b"
   ]
  },
  {
   "cell_type": "code",
   "execution_count": 41,
   "id": "5f16f6ff-4f9b-4c85-b213-b559e25c55b8",
   "metadata": {},
   "outputs": [
    {
     "data": {
      "text/plain": [
       "7"
      ]
     },
     "execution_count": 41,
     "metadata": {},
     "output_type": "execute_result"
    }
   ],
   "source": [
    "add(3,4)"
   ]
  },
  {
   "cell_type": "code",
   "execution_count": 42,
   "id": "3c7a6a70-5a9d-4c1a-a415-e3b5fc5203fd",
   "metadata": {},
   "outputs": [
    {
     "data": {
      "text/plain": [
       "<function __main__.<lambda>(a, b)>"
      ]
     },
     "execution_count": 42,
     "metadata": {},
     "output_type": "execute_result"
    }
   ],
   "source": [
    "lambda a,b:a+b"
   ]
  },
  {
   "cell_type": "code",
   "execution_count": 43,
   "id": "35e2217d-6c02-4fe2-b4fc-db9c1f6cf9f7",
   "metadata": {},
   "outputs": [
    {
     "data": {
      "text/plain": [
       "7"
      ]
     },
     "execution_count": 43,
     "metadata": {},
     "output_type": "execute_result"
    }
   ],
   "source": [
    "(lambda a,b:a+b)(3,4)"
   ]
  },
  {
   "cell_type": "code",
   "execution_count": 45,
   "id": "6fa574fa-c375-4fc6-8bd1-f378bfdea449",
   "metadata": {},
   "outputs": [
    {
     "data": {
      "text/plain": [
       "function"
      ]
     },
     "execution_count": 45,
     "metadata": {},
     "output_type": "execute_result"
    }
   ],
   "source": [
    "func=lambda a,b :a+b\n",
    "type(func)"
   ]
  },
  {
   "cell_type": "code",
   "execution_count": 46,
   "id": "f7694c2c-0e4e-4188-98a4-167e32489203",
   "metadata": {},
   "outputs": [
    {
     "data": {
      "text/plain": [
       "9.4"
      ]
     },
     "execution_count": 46,
     "metadata": {},
     "output_type": "execute_result"
    }
   ],
   "source": [
    "func(5.4,4)"
   ]
  },
  {
   "cell_type": "code",
   "execution_count": 47,
   "id": "7dc0cc3f-7898-4241-a3b3-45d9055d5e6d",
   "metadata": {},
   "outputs": [],
   "source": [
    "def larger(a,b):\n",
    "    if a>b:\n",
    "        return a\n",
    "    else:\n",
    "        return b\n",
    "        "
   ]
  },
  {
   "cell_type": "code",
   "execution_count": 48,
   "id": "14ef35fc-4b69-43a3-ac95-7aa8f6aa9b93",
   "metadata": {},
   "outputs": [
    {
     "data": {
      "text/plain": [
       "5"
      ]
     },
     "execution_count": 48,
     "metadata": {},
     "output_type": "execute_result"
    }
   ],
   "source": [
    "larger(4,5)"
   ]
  },
  {
   "cell_type": "code",
   "execution_count": 49,
   "id": "971e297a-3b54-45fe-98b8-27807f1ed440",
   "metadata": {},
   "outputs": [
    {
     "data": {
      "text/plain": [
       "43"
      ]
     },
     "execution_count": 49,
     "metadata": {},
     "output_type": "execute_result"
    }
   ],
   "source": [
    "(lambda x,y:x if x>y else y)(43,5)"
   ]
  },
  {
   "cell_type": "code",
   "execution_count": 50,
   "id": "37316371-73e1-46d5-b670-39f5680743bc",
   "metadata": {},
   "outputs": [],
   "source": [
    "large=lambda  x,y :x if x>y else y"
   ]
  },
  {
   "cell_type": "code",
   "execution_count": 51,
   "id": "0ffd9e20-bb19-4fbc-a5a5-fa00455ea70c",
   "metadata": {},
   "outputs": [
    {
     "data": {
      "text/plain": [
       "62"
      ]
     },
     "execution_count": 51,
     "metadata": {},
     "output_type": "execute_result"
    }
   ],
   "source": [
    "larger(62,7)"
   ]
  },
  {
   "cell_type": "code",
   "execution_count": 63,
   "id": "97da0c65-8583-41b7-aa77-5bae164fe820",
   "metadata": {},
   "outputs": [],
   "source": [
    "lst=[(12,56),(2,4),(5,3)]\n",
    "lst.sort()"
   ]
  },
  {
   "cell_type": "code",
   "execution_count": 65,
   "id": "c908c295-71d0-4075-8e58-f892e56a3243",
   "metadata": {},
   "outputs": [
    {
     "data": {
      "text/plain": [
       "[(2, 4), (5, 3), (12, 56)]"
      ]
     },
     "execution_count": 65,
     "metadata": {},
     "output_type": "execute_result"
    }
   ],
   "source": [
    "lst"
   ]
  },
  {
   "cell_type": "code",
   "execution_count": 67,
   "id": "88f0a1a9-cc3f-44b1-b3e1-1b3b3282988e",
   "metadata": {},
   "outputs": [
    {
     "data": {
      "text/plain": [
       "[(5, 3), (2, 4), (12, 56)]"
      ]
     },
     "execution_count": 67,
     "metadata": {},
     "output_type": "execute_result"
    }
   ],
   "source": [
    "def k(x):\n",
    "    return x[1]\n",
    "lst.sort(key=k)\n",
    "lst"
   ]
  },
  {
   "cell_type": "code",
   "execution_count": 59,
   "id": "f88fa98c-5f97-490c-9948-ebe55abfa78f",
   "metadata": {},
   "outputs": [
    {
     "data": {
      "text/plain": [
       "[(2, 4), (5, 3), (12, 56)]"
      ]
     },
     "execution_count": 59,
     "metadata": {},
     "output_type": "execute_result"
    }
   ],
   "source": [
    "lst"
   ]
  },
  {
   "cell_type": "code",
   "execution_count": 68,
   "id": "d63e0a9b-b329-41d9-af23-aba654a2bc14",
   "metadata": {},
   "outputs": [
    {
     "data": {
      "text/plain": [
       "[(5, 3), (2, 4), (12, 56)]"
      ]
     },
     "execution_count": 68,
     "metadata": {},
     "output_type": "execute_result"
    }
   ],
   "source": [
    "lst.sort(key=lambda x:[1])\n",
    "lst"
   ]
  },
  {
   "cell_type": "code",
   "execution_count": 70,
   "id": "1acfd724-2b77-4354-9948-363d40a967b3",
   "metadata": {},
   "outputs": [
    {
     "name": "stdout",
     "output_type": "stream",
     "text": [
      "2\n",
      "4\n",
      "6\n"
     ]
    }
   ],
   "source": [
    "def even(li):\n",
    "    for i in li:\n",
    "        if i%2==0:\n",
    "            print(i)\n",
    "li=[1,2,3,4,5,6]\n",
    "even(li)"
   ]
  },
  {
   "cell_type": "code",
   "execution_count": 73,
   "id": "269fee07-0285-421e-a2ef-ea5b7150fe46",
   "metadata": {},
   "outputs": [
    {
     "data": {
      "text/plain": [
       "[1, 2, 3, 4, 5, 6]"
      ]
     },
     "execution_count": 73,
     "metadata": {},
     "output_type": "execute_result"
    }
   ],
   "source": [
    "def unique(ri):\n",
    "    new=[]\n",
    "    for i in ri:\n",
    "       if i not in new:\n",
    "           new.append(i)\n",
    "    return new\n",
    "ri=[1,2,3,4,4,5,7,5,6]\n",
    "unique(li)"
   ]
  },
  {
   "cell_type": "code",
   "execution_count": 75,
   "id": "00d9c456-90a9-4a22-9736-d24c54d9a109",
   "metadata": {},
   "outputs": [],
   "source": [
    "#parameter\n",
    "def func(name):\n",
    "    print(\"hey my name is\",name)"
   ]
  },
  {
   "cell_type": "code",
   "execution_count": 76,
   "id": "110694d8-682b-4338-93db-e0efdbbaaac0",
   "metadata": {},
   "outputs": [
    {
     "name": "stdout",
     "output_type": "stream",
     "text": [
      "hey my name is Mounish\n"
     ]
    }
   ],
   "source": [
    "#argument\n",
    "func(\"Mounish\")"
   ]
  },
  {
   "cell_type": "code",
   "execution_count": 77,
   "id": "8e77a2de-df9d-4495-900f-5e72c5cbc168",
   "metadata": {},
   "outputs": [],
   "source": [
    "#positional arguments\n",
    "def intro(name,hobby):\n",
    "     print(\"Hey my name is\",name)\n",
    "     print(\"And my hobby is\",hobby)"
   ]
  },
  {
   "cell_type": "code",
   "execution_count": 78,
   "id": "301d8798-276b-4f1d-a746-75e2bdc03adf",
   "metadata": {},
   "outputs": [
    {
     "name": "stdout",
     "output_type": "stream",
     "text": [
      "Hey my name is Mounish\n",
      "And my hobby is cricket\n"
     ]
    }
   ],
   "source": [
    "intro(\"Mounish\",\"cricket\")"
   ]
  },
  {
   "cell_type": "code",
   "execution_count": 79,
   "id": "737397c6-b774-4fc2-bd33-312141d111f4",
   "metadata": {},
   "outputs": [],
   "source": [
    "#default arguments\n",
    "def intro(name,hobby=\"none\"):\n",
    "     print(\"Hey my name is\",name)\n",
    "     print(\"And my hobby is\",hobby)\n",
    "    "
   ]
  },
  {
   "cell_type": "code",
   "execution_count": 80,
   "id": "74fd33fd-c285-4064-a35c-024a6fd2424a",
   "metadata": {},
   "outputs": [
    {
     "name": "stdout",
     "output_type": "stream",
     "text": [
      "Hey my name is mounish\n",
      "And my hobby is none\n"
     ]
    }
   ],
   "source": [
    "intro(\"mounish\")"
   ]
  },
  {
   "cell_type": "code",
   "execution_count": 81,
   "id": "e5d30fe3-d092-42b6-b764-80ead61a0fb2",
   "metadata": {},
   "outputs": [
    {
     "name": "stdout",
     "output_type": "stream",
     "text": [
      "Hey my name is Mounish\n",
      "And my hobby is cricket\n"
     ]
    }
   ],
   "source": [
    "intro(\"Mounish\",\"cricket\")"
   ]
  },
  {
   "cell_type": "code",
   "execution_count": 83,
   "id": "28b5a660-6b9d-4b1a-8100-20fc94e93c3d",
   "metadata": {},
   "outputs": [],
   "source": [
    "#arbitrary arguments\n",
    "def test(*args):\n",
    "    print(args)"
   ]
  },
  {
   "cell_type": "code",
   "execution_count": 84,
   "id": "72ef5148-1345-4386-9b62-c1e7a5ec81dd",
   "metadata": {},
   "outputs": [
    {
     "name": "stdout",
     "output_type": "stream",
     "text": [
      "(2, 3, 4)\n"
     ]
    }
   ],
   "source": [
    "test(2,3,4)"
   ]
  },
  {
   "cell_type": "code",
   "execution_count": 85,
   "id": "10cb3039-f440-4341-a4fa-c51b4707348a",
   "metadata": {},
   "outputs": [],
   "source": [
    "def test(*args):\n",
    "    print(args)\n",
    "    print(type(args))"
   ]
  },
  {
   "cell_type": "code",
   "execution_count": 86,
   "id": "13727629-f238-45dc-b900-599686acaf69",
   "metadata": {},
   "outputs": [
    {
     "name": "stdout",
     "output_type": "stream",
     "text": [
      "(2, 3, 4)\n",
      "<class 'tuple'>\n"
     ]
    }
   ],
   "source": [
    "test(2,3,4)"
   ]
  },
  {
   "cell_type": "code",
   "execution_count": 91,
   "id": "19707464-4adb-4ee3-9695-627b87d2e0c5",
   "metadata": {},
   "outputs": [],
   "source": [
    "def test(*args):\n",
    "    print(args)\n",
    "    for i in args:\n",
    "        print(i,end=\" \")\n",
    "    print(type(args))"
   ]
  },
  {
   "cell_type": "code",
   "execution_count": 92,
   "id": "acedadcc-93e1-40f9-9816-842d930b3d4c",
   "metadata": {},
   "outputs": [
    {
     "name": "stdout",
     "output_type": "stream",
     "text": [
      "('mouni', 2, 3, 4)\n",
      "mouni 2 3 4 <class 'tuple'>\n"
     ]
    }
   ],
   "source": [
    "test(\"mouni\",2,3,4)"
   ]
  },
  {
   "cell_type": "code",
   "execution_count": 94,
   "id": "d61695ef-e5bc-4b0c-af15-5b30b4055a3a",
   "metadata": {},
   "outputs": [],
   "source": [
    "#keyword arguments\n",
    "def intro(**kwargs):\n",
    "    print(kwargs)\n",
    "    print(type(kwargs))"
   ]
  },
  {
   "cell_type": "code",
   "execution_count": 95,
   "id": "47b4fbfe-cb08-416c-a837-7b912eefdebc",
   "metadata": {},
   "outputs": [
    {
     "name": "stdout",
     "output_type": "stream",
     "text": [
      "{'name': 'Mounish', 'age': 25}\n",
      "<class 'dict'>\n"
     ]
    }
   ],
   "source": [
    "intro(name=\"Mounish\",age=25)"
   ]
  },
  {
   "cell_type": "code",
   "execution_count": 96,
   "id": "4fa067da-820f-4ab6-9030-cd9ab71ba478",
   "metadata": {},
   "outputs": [],
   "source": [
    "def intro(**kwargs):\n",
    "    for key,values in kwargs.items():\n",
    "        print(key,values,sep=\":\")"
   ]
  },
  {
   "cell_type": "code",
   "execution_count": 98,
   "id": "137e6489-6c81-4d83-9bfd-fb6f80853f99",
   "metadata": {},
   "outputs": [
    {
     "name": "stdout",
     "output_type": "stream",
     "text": [
      "name:Mounish\n",
      "age:25\n",
      "hobby:cricket\n"
     ]
    }
   ],
   "source": [
    "intro(name=\"Mounish\",age=25,hobby=\"cricket\")"
   ]
  },
  {
   "cell_type": "code",
   "execution_count": 101,
   "id": "c0abd2ab-8182-4954-99bc-445226cff967",
   "metadata": {},
   "outputs": [],
   "source": [
    "def mix(a,b,c,age=25,*args,**kwargs):\n",
    "    print(a,b,c)\n",
    "    print(age)\n",
    "    print(*args)\n",
    "    print(**kwargs)"
   ]
  },
  {
   "cell_type": "code",
   "execution_count": 103,
   "id": "b83f8169-5dd6-4f64-966b-35f0926e09b8",
   "metadata": {},
   "outputs": [
    {
     "name": "stdout",
     "output_type": "stream",
     "text": [
      "2 3 4\n",
      "25\n",
      "\n",
      "\n"
     ]
    }
   ],
   "source": [
    "mix(2,3,4)"
   ]
  },
  {
   "cell_type": "code",
   "execution_count": null,
   "id": "92edaa09-e051-4348-b650-1511e82e87e5",
   "metadata": {},
   "outputs": [],
   "source": []
  }
 ],
 "metadata": {
  "kernelspec": {
   "display_name": "Python 3 (ipykernel)",
   "language": "python",
   "name": "python3"
  },
  "language_info": {
   "codemirror_mode": {
    "name": "ipython",
    "version": 3
   },
   "file_extension": ".py",
   "mimetype": "text/x-python",
   "name": "python",
   "nbconvert_exporter": "python",
   "pygments_lexer": "ipython3",
   "version": "3.12.4"
  }
 },
 "nbformat": 4,
 "nbformat_minor": 5
}
