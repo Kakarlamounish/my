{
 "cells": [
  {
   "cell_type": "code",
   "execution_count": 1,
   "id": "aeffbdbb-61ce-4104-a739-ad75f84101fc",
   "metadata": {},
   "outputs": [
    {
     "name": "stdout",
     "output_type": "stream",
     "text": [
      "<class 'list'>\n"
     ]
    }
   ],
   "source": [
    "l=list()\n",
    "print(type(l))"
   ]
  },
  {
   "cell_type": "code",
   "execution_count": 2,
   "id": "85333abd-5f02-431a-91b2-419c93af0e15",
   "metadata": {},
   "outputs": [
    {
     "data": {
      "text/plain": [
       "list"
      ]
     },
     "execution_count": 2,
     "metadata": {},
     "output_type": "execute_result"
    }
   ],
   "source": [
    "l1=[2,3,4,5]\n",
    "type(l1)"
   ]
  },
  {
   "cell_type": "code",
   "execution_count": 3,
   "id": "edaf2605-604a-40ce-8948-5f47de276b30",
   "metadata": {},
   "outputs": [
    {
     "data": {
      "text/plain": [
       "4"
      ]
     },
     "execution_count": 3,
     "metadata": {},
     "output_type": "execute_result"
    }
   ],
   "source": [
    "len(l1)"
   ]
  },
  {
   "cell_type": "code",
   "execution_count": 4,
   "id": "bdedf7ba-0b3f-47ee-a361-6f9c887b0873",
   "metadata": {},
   "outputs": [
    {
     "data": {
      "text/plain": [
       "2"
      ]
     },
     "execution_count": 4,
     "metadata": {},
     "output_type": "execute_result"
    }
   ],
   "source": [
    "l1[0]"
   ]
  },
  {
   "cell_type": "code",
   "execution_count": 7,
   "id": "5d96222a-a698-4078-8225-23f6a7f07d8d",
   "metadata": {},
   "outputs": [
    {
     "data": {
      "text/plain": [
       "2600739697536"
      ]
     },
     "execution_count": 7,
     "metadata": {},
     "output_type": "execute_result"
    }
   ],
   "source": [
    "id(l1)"
   ]
  },
  {
   "cell_type": "code",
   "execution_count": 8,
   "id": "3c007f32-53ad-4db9-85fb-2ae90781abcf",
   "metadata": {},
   "outputs": [
    {
     "data": {
      "text/plain": [
       "4"
      ]
     },
     "execution_count": 8,
     "metadata": {},
     "output_type": "execute_result"
    }
   ],
   "source": [
    "len(l1)"
   ]
  },
  {
   "cell_type": "code",
   "execution_count": 9,
   "id": "f1c9e958-8e48-4878-afdc-53d1ead441df",
   "metadata": {},
   "outputs": [
    {
     "data": {
      "text/plain": [
       "2"
      ]
     },
     "execution_count": 9,
     "metadata": {},
     "output_type": "execute_result"
    }
   ],
   "source": [
    "l1[0]"
   ]
  },
  {
   "cell_type": "code",
   "execution_count": 10,
   "id": "b5b3414e-dd5e-4e50-a548-0119deb99120",
   "metadata": {},
   "outputs": [],
   "source": [
    "l1[0]=9"
   ]
  },
  {
   "cell_type": "code",
   "execution_count": 11,
   "id": "2b3f772f-3094-4571-8e3d-772110f7f250",
   "metadata": {},
   "outputs": [
    {
     "name": "stdout",
     "output_type": "stream",
     "text": [
      "[9, 3, 4, 5]\n"
     ]
    }
   ],
   "source": [
    "print(l1)"
   ]
  },
  {
   "cell_type": "code",
   "execution_count": 12,
   "id": "c9e2aebe-20fb-4bbb-af45-008f8cb86e6a",
   "metadata": {},
   "outputs": [
    {
     "name": "stdout",
     "output_type": "stream",
     "text": [
      "9\n",
      "3\n",
      "4\n",
      "5\n"
     ]
    }
   ],
   "source": [
    "for i in l1:\n",
    "    print(i)"
   ]
  },
  {
   "cell_type": "code",
   "execution_count": 20,
   "id": "1446a6b7-e07c-4b81-8bfd-fc03da79fce9",
   "metadata": {},
   "outputs": [],
   "source": [
    "l2=[2,6,4,7,8,0]"
   ]
  },
  {
   "cell_type": "code",
   "execution_count": 21,
   "id": "56409829-3577-49f3-8156-752b95f30fe4",
   "metadata": {},
   "outputs": [
    {
     "data": {
      "text/plain": [
       "6"
      ]
     },
     "execution_count": 21,
     "metadata": {},
     "output_type": "execute_result"
    }
   ],
   "source": [
    "len(l2)"
   ]
  },
  {
   "cell_type": "code",
   "execution_count": 22,
   "id": "cf880463-5876-4f6e-af8c-7e82e0eed3b7",
   "metadata": {},
   "outputs": [
    {
     "data": {
      "text/plain": [
       "[2, 6, 4, 7]"
      ]
     },
     "execution_count": 22,
     "metadata": {},
     "output_type": "execute_result"
    }
   ],
   "source": [
    "l2[0:4]"
   ]
  },
  {
   "cell_type": "code",
   "execution_count": 23,
   "id": "c3fd5057-2ace-4e2b-96c0-ed893dbf2836",
   "metadata": {},
   "outputs": [
    {
     "data": {
      "text/plain": [
       "[0, 8, 7, 4, 6, 2]"
      ]
     },
     "execution_count": 23,
     "metadata": {},
     "output_type": "execute_result"
    }
   ],
   "source": [
    "l2[::-1]"
   ]
  },
  {
   "cell_type": "code",
   "execution_count": 24,
   "id": "a78c5c36-7493-45b6-a94b-a0a0b34725a8",
   "metadata": {},
   "outputs": [
    {
     "data": {
      "text/plain": [
       "[]"
      ]
     },
     "execution_count": 24,
     "metadata": {},
     "output_type": "execute_result"
    }
   ],
   "source": [
    "l2[5:0]"
   ]
  },
  {
   "cell_type": "code",
   "execution_count": 25,
   "id": "a3f6e9de-ab08-498a-a22a-45dac36566c7",
   "metadata": {},
   "outputs": [
    {
     "data": {
      "text/plain": [
       "[0, 8, 7, 4, 6]"
      ]
     },
     "execution_count": 25,
     "metadata": {},
     "output_type": "execute_result"
    }
   ],
   "source": [
    "l2[5:0:-1]"
   ]
  },
  {
   "cell_type": "code",
   "execution_count": 26,
   "id": "cbb39848-1c54-4688-8913-de2b8bca4aa9",
   "metadata": {},
   "outputs": [],
   "source": [
    "budget=[100,150,200,100]"
   ]
  },
  {
   "cell_type": "code",
   "execution_count": 27,
   "id": "8409c296-5788-4a84-adb1-d175bdc58419",
   "metadata": {},
   "outputs": [
    {
     "data": {
      "text/plain": [
       "2"
      ]
     },
     "execution_count": 27,
     "metadata": {},
     "output_type": "execute_result"
    }
   ],
   "source": [
    "budget.count(100)"
   ]
  },
  {
   "cell_type": "code",
   "execution_count": 28,
   "id": "fd5a2df0-ac5d-4676-a77d-21d6ec3fb2a0",
   "metadata": {},
   "outputs": [
    {
     "data": {
      "text/plain": [
       "0"
      ]
     },
     "execution_count": 28,
     "metadata": {},
     "output_type": "execute_result"
    }
   ],
   "source": [
    "budget.count(500)"
   ]
  },
  {
   "cell_type": "code",
   "execution_count": 32,
   "id": "a523312c-88ee-4361-8f81-6b09ec9f6b86",
   "metadata": {},
   "outputs": [
    {
     "data": {
      "text/plain": [
       "1"
      ]
     },
     "execution_count": 32,
     "metadata": {},
     "output_type": "execute_result"
    }
   ],
   "source": [
    "budget.index(150)"
   ]
  },
  {
   "cell_type": "code",
   "execution_count": 34,
   "id": "64896c99-dbf8-4f4d-9143-46208ca0ff46",
   "metadata": {},
   "outputs": [],
   "source": [
    "name=[\"rahul\",\"mounish\",\"naveen\",\"nani\",\"mallesh\"]"
   ]
  },
  {
   "cell_type": "markdown",
   "id": "3bab1c07-af10-42d2-81fd-9bbc5e14a0af",
   "metadata": {},
   "source": []
  },
  {
   "cell_type": "code",
   "execution_count": 35,
   "id": "84a865a0-eae2-4eca-907d-92e3bb460fb8",
   "metadata": {},
   "outputs": [
    {
     "data": {
      "text/plain": [
       "['rahul', 'mounish', 'naveen', 'nani', 'mallesh']"
      ]
     },
     "execution_count": 35,
     "metadata": {},
     "output_type": "execute_result"
    }
   ],
   "source": [
    "name"
   ]
  },
  {
   "cell_type": "code",
   "execution_count": 36,
   "id": "042fa096-b3f5-499b-be9a-0bd99de4cc7e",
   "metadata": {},
   "outputs": [],
   "source": [
    "drop=name.pop()"
   ]
  },
  {
   "cell_type": "code",
   "execution_count": 37,
   "id": "db214237-95bc-41a3-9350-80f93c3a321b",
   "metadata": {},
   "outputs": [
    {
     "data": {
      "text/plain": [
       "'mallesh'"
      ]
     },
     "execution_count": 37,
     "metadata": {},
     "output_type": "execute_result"
    }
   ],
   "source": [
    "drop"
   ]
  },
  {
   "cell_type": "code",
   "execution_count": 38,
   "id": "476264aa-f654-4257-8420-eed3d3f02016",
   "metadata": {},
   "outputs": [
    {
     "data": {
      "text/plain": [
       "['rahul', 'mounish', 'naveen', 'nani']"
      ]
     },
     "execution_count": 38,
     "metadata": {},
     "output_type": "execute_result"
    }
   ],
   "source": [
    "name"
   ]
  },
  {
   "cell_type": "code",
   "execution_count": 39,
   "id": "426a6588-e750-497d-a976-5a3ca5e50955",
   "metadata": {},
   "outputs": [],
   "source": [
    "name.remove(\"mounish\")"
   ]
  },
  {
   "cell_type": "code",
   "execution_count": 40,
   "id": "cf33c638-7880-4ea2-8d47-a0f2e02d4b28",
   "metadata": {},
   "outputs": [
    {
     "data": {
      "text/plain": [
       "['rahul', 'naveen', 'nani']"
      ]
     },
     "execution_count": 40,
     "metadata": {},
     "output_type": "execute_result"
    }
   ],
   "source": [
    "name"
   ]
  },
  {
   "cell_type": "code",
   "execution_count": 41,
   "id": "984c7467-b099-4e5a-886c-0e8a22b48ba9",
   "metadata": {},
   "outputs": [],
   "source": [
    "budget.sort()"
   ]
  },
  {
   "cell_type": "code",
   "execution_count": 42,
   "id": "40d2bda8-bbb2-4373-bfdc-4ef8e5767a3f",
   "metadata": {},
   "outputs": [
    {
     "data": {
      "text/plain": [
       "[100, 100, 150, 200]"
      ]
     },
     "execution_count": 42,
     "metadata": {},
     "output_type": "execute_result"
    }
   ],
   "source": [
    "budget"
   ]
  },
  {
   "cell_type": "code",
   "execution_count": 44,
   "id": "a3c83aa7-5dd1-4e79-9fba-999aa8c8af25",
   "metadata": {},
   "outputs": [],
   "source": [
    "name.insert(1,\"mounish\")"
   ]
  },
  {
   "cell_type": "code",
   "execution_count": 45,
   "id": "d0f60b3e-dc11-49be-80f2-0bcbb3e49789",
   "metadata": {},
   "outputs": [],
   "source": [
    "name.insert(4,\"mallesh\")"
   ]
  },
  {
   "cell_type": "code",
   "execution_count": 46,
   "id": "d575851c-931c-4b08-ae7c-04912b8cc978",
   "metadata": {},
   "outputs": [],
   "source": [
    "name.insert(5,\"balaji\")"
   ]
  },
  {
   "cell_type": "code",
   "execution_count": 47,
   "id": "00723575-b318-4962-b96f-e9ccbe3f4e57",
   "metadata": {},
   "outputs": [
    {
     "data": {
      "text/plain": [
       "['rahul', 'mounish', 'naveen', 'nani', 'mallesh', 'balaji']"
      ]
     },
     "execution_count": 47,
     "metadata": {},
     "output_type": "execute_result"
    }
   ],
   "source": [
    "name"
   ]
  },
  {
   "cell_type": "code",
   "execution_count": 48,
   "id": "ac5411a7-21ab-4393-8375-ad2324a59076",
   "metadata": {},
   "outputs": [],
   "source": [
    "l1.append(\"MCK\")"
   ]
  },
  {
   "cell_type": "code",
   "execution_count": 49,
   "id": "846715b8-05e8-497a-9a64-51e1cbff44d8",
   "metadata": {},
   "outputs": [
    {
     "data": {
      "text/plain": [
       "[9, 3, 4, 5, 'MCK']"
      ]
     },
     "execution_count": 49,
     "metadata": {},
     "output_type": "execute_result"
    }
   ],
   "source": [
    "l1"
   ]
  },
  {
   "cell_type": "code",
   "execution_count": 50,
   "id": "b9e92945-4043-4503-826f-7b1e77910d72",
   "metadata": {},
   "outputs": [],
   "source": [
    "l2=[6,7,8]"
   ]
  },
  {
   "cell_type": "code",
   "execution_count": 51,
   "id": "18104c70-2d59-4e6a-baf4-5e07725b6cc0",
   "metadata": {},
   "outputs": [],
   "source": [
    "l1.append(l2)"
   ]
  },
  {
   "cell_type": "code",
   "execution_count": 52,
   "id": "4bb84255-9e9b-44fa-8029-50d9fbe4ab6e",
   "metadata": {},
   "outputs": [
    {
     "data": {
      "text/plain": [
       "[9, 3, 4, 5, 'MCK', [6, 7, 8]]"
      ]
     },
     "execution_count": 52,
     "metadata": {},
     "output_type": "execute_result"
    }
   ],
   "source": [
    "l1"
   ]
  },
  {
   "cell_type": "code",
   "execution_count": 53,
   "id": "f265ac76-282c-4939-9a38-ae852a1a15a5",
   "metadata": {},
   "outputs": [],
   "source": [
    "l=[1,2,3,4,5]"
   ]
  },
  {
   "cell_type": "code",
   "execution_count": 54,
   "id": "a76e98b1-8ffa-41f4-b956-b28874fb717a",
   "metadata": {},
   "outputs": [],
   "source": [
    "l.extend(l2)"
   ]
  },
  {
   "cell_type": "code",
   "execution_count": 55,
   "id": "011e688a-fe49-4999-9f99-285537effcc9",
   "metadata": {},
   "outputs": [
    {
     "data": {
      "text/plain": [
       "[1, 2, 3, 4, 5, 6, 7, 8]"
      ]
     },
     "execution_count": 55,
     "metadata": {},
     "output_type": "execute_result"
    }
   ],
   "source": [
    "l"
   ]
  },
  {
   "cell_type": "code",
   "execution_count": 56,
   "id": "849c62dc-c245-49ab-886b-acb5048e02ab",
   "metadata": {},
   "outputs": [],
   "source": [
    "s=\"rahul\""
   ]
  },
  {
   "cell_type": "code",
   "execution_count": 57,
   "id": "cee18246-2b34-430c-b3af-4b87b1857d5b",
   "metadata": {},
   "outputs": [
    {
     "name": "stdout",
     "output_type": "stream",
     "text": [
      "r\n",
      "a\n",
      "h\n",
      "u\n",
      "l\n"
     ]
    }
   ],
   "source": [
    "for i in s:\n",
    "    print(i)"
   ]
  },
  {
   "cell_type": "code",
   "execution_count": 58,
   "id": "a03daed3-d5e3-432f-ba78-cbe100214977",
   "metadata": {},
   "outputs": [
    {
     "data": {
      "text/plain": [
       "[1, 2, 3, 4, 5, 6, 7, 8, 'r', 'a', 'h', 'u', 'l']"
      ]
     },
     "execution_count": 58,
     "metadata": {},
     "output_type": "execute_result"
    }
   ],
   "source": [
    "l.extend(s)\n",
    "l"
   ]
  },
  {
   "cell_type": "code",
   "execution_count": 59,
   "id": "fccd3174-11fa-4e9e-8d70-c47ef49afe92",
   "metadata": {},
   "outputs": [],
   "source": [
    "l3=[2,\"rahul\",1.3,True]"
   ]
  },
  {
   "cell_type": "code",
   "execution_count": 60,
   "id": "f8fa8101-0fb7-403c-94d1-80dd63a245a4",
   "metadata": {},
   "outputs": [
    {
     "data": {
      "text/plain": [
       "list"
      ]
     },
     "execution_count": 60,
     "metadata": {},
     "output_type": "execute_result"
    }
   ],
   "source": [
    "type(l3)"
   ]
  },
  {
   "cell_type": "code",
   "execution_count": 61,
   "id": "9b190e9e-e673-4a94-9f7e-fca53b9256d3",
   "metadata": {},
   "outputs": [
    {
     "data": {
      "text/plain": [
       "float"
      ]
     },
     "execution_count": 61,
     "metadata": {},
     "output_type": "execute_result"
    }
   ],
   "source": [
    "type(l3[2])"
   ]
  },
  {
   "cell_type": "code",
   "execution_count": 62,
   "id": "3370d8c8-3dfe-462f-b557-26327ab9aace",
   "metadata": {},
   "outputs": [
    {
     "name": "stdout",
     "output_type": "stream",
     "text": [
      "2\n",
      "rahul\n",
      "1.3\n",
      "True\n"
     ]
    }
   ],
   "source": [
    "for i in l3:\n",
    "    print(i)"
   ]
  },
  {
   "cell_type": "code",
   "execution_count": 64,
   "id": "0f23fa9d-56a4-4587-8c5e-7f48144fc7d7",
   "metadata": {},
   "outputs": [],
   "source": [
    "l4=[1,2,3,4]\n",
    "l5=[5,6,7,8]\n",
    "l6=[9,0]\n",
    "l7=[l4,l5,l6]"
   ]
  },
  {
   "cell_type": "code",
   "execution_count": 65,
   "id": "261702d9-9d25-4228-8244-a81949bf2896",
   "metadata": {},
   "outputs": [
    {
     "data": {
      "text/plain": [
       "[[1, 2, 3, 4], [5, 6, 7, 8], [9, 0]]"
      ]
     },
     "execution_count": 65,
     "metadata": {},
     "output_type": "execute_result"
    }
   ],
   "source": [
    "l7"
   ]
  },
  {
   "cell_type": "code",
   "execution_count": 66,
   "id": "13df8d9c-ee32-45ee-bce2-537870f5c544",
   "metadata": {},
   "outputs": [
    {
     "data": {
      "text/plain": [
       "[1, 2, 3, 4]"
      ]
     },
     "execution_count": 66,
     "metadata": {},
     "output_type": "execute_result"
    }
   ],
   "source": [
    "l7[0]"
   ]
  },
  {
   "cell_type": "code",
   "execution_count": 67,
   "id": "48caa2fd-5058-4562-8237-dfb7fc5a79c9",
   "metadata": {},
   "outputs": [
    {
     "data": {
      "text/plain": [
       "1"
      ]
     },
     "execution_count": 67,
     "metadata": {},
     "output_type": "execute_result"
    }
   ],
   "source": [
    "l4[0]"
   ]
  },
  {
   "cell_type": "code",
   "execution_count": 68,
   "id": "630167f8-835a-4190-8684-6c898e0892c8",
   "metadata": {},
   "outputs": [
    {
     "data": {
      "text/plain": [
       "1"
      ]
     },
     "execution_count": 68,
     "metadata": {},
     "output_type": "execute_result"
    }
   ],
   "source": [
    "l7[0][0]"
   ]
  },
  {
   "cell_type": "code",
   "execution_count": 69,
   "id": "b1653df7-0348-4dcd-858a-bc25cb0c49b0",
   "metadata": {},
   "outputs": [
    {
     "data": {
      "text/plain": [
       "0"
      ]
     },
     "execution_count": 69,
     "metadata": {},
     "output_type": "execute_result"
    }
   ],
   "source": [
    "l7[2][1]"
   ]
  },
  {
   "cell_type": "code",
   "execution_count": 70,
   "id": "c6e78013-3326-4c69-96db-741194773096",
   "metadata": {},
   "outputs": [
    {
     "name": "stdout",
     "output_type": "stream",
     "text": [
      "[1, 2, 3, 4]\n",
      "[5, 6, 7, 8]\n",
      "[9, 0]\n"
     ]
    }
   ],
   "source": [
    "for i in l7:\n",
    "    print(i)"
   ]
  },
  {
   "cell_type": "code",
   "execution_count": 71,
   "id": "49610dd0-35b6-4e22-be02-a5e4cf9da268",
   "metadata": {},
   "outputs": [
    {
     "name": "stdout",
     "output_type": "stream",
     "text": [
      "1\n",
      "2\n",
      "3\n",
      "4\n"
     ]
    }
   ],
   "source": [
    "for  i in l4:\n",
    "    print(i)"
   ]
  },
  {
   "cell_type": "code",
   "execution_count": 73,
   "id": "2cd8db66-52f6-46a5-a5d8-a59faf61a42e",
   "metadata": {},
   "outputs": [
    {
     "name": "stdout",
     "output_type": "stream",
     "text": [
      "1\n",
      "2\n",
      "3\n",
      "4\n",
      "5\n",
      "6\n",
      "7\n",
      "8\n",
      "9\n",
      "0\n"
     ]
    }
   ],
   "source": [
    "for i  in l7:\n",
    "    for j in i:\n",
    "        print(j)"
   ]
  },
  {
   "cell_type": "code",
   "execution_count": 74,
   "id": "9edd5400-da46-402e-8fa9-05660febb888",
   "metadata": {},
   "outputs": [
    {
     "name": "stdout",
     "output_type": "stream",
     "text": [
      "0\n",
      "1\n",
      "2\n",
      "3\n",
      "4\n",
      "5\n",
      "6\n",
      "7\n",
      "8\n",
      "9\n"
     ]
    }
   ],
   "source": [
    "for i in range (10):\n",
    "    print(i)"
   ]
  },
  {
   "cell_type": "code",
   "execution_count": 76,
   "id": "1befeac9-7715-4de3-81e4-0edc16385627",
   "metadata": {},
   "outputs": [
    {
     "name": "stdout",
     "output_type": "stream",
     "text": [
      "[0, 1, 2, 3, 4, 5, 6, 7, 8, 9, 10, 11, 12, 13, 14, 15, 16, 17, 18, 19, 20, 21, 22, 23, 24, 25, 26, 27, 28, 29, 30, 31, 32, 33, 34, 35, 36, 37, 38, 39, 40, 41, 42, 43, 44, 45, 46, 47, 48, 49, 50, 51, 52, 53, 54, 55, 56, 57, 58, 59, 60, 61, 62, 63, 64, 65, 66, 67, 68, 69, 70, 71, 72, 73, 74, 75, 76, 77, 78, 79, 80, 81, 82, 83, 84, 85, 86, 87, 88, 89, 90, 91, 92, 93, 94, 95, 96, 97, 98, 99]\n"
     ]
    }
   ],
   "source": [
    "l8=[]\n",
    "\n",
    "for i in range(100):\n",
    "    l8.append(i)\n",
    "print(l8)"
   ]
  },
  {
   "cell_type": "code",
   "execution_count": 79,
   "id": "729406c8-fc01-40eb-856c-5b69c8425e82",
   "metadata": {},
   "outputs": [
    {
     "data": {
      "text/plain": [
       "[0, 1, 2, 3, 4, 5, 6, 7, 8, 9]"
      ]
     },
     "execution_count": 79,
     "metadata": {},
     "output_type": "execute_result"
    }
   ],
   "source": [
    "l8=[i for i in range(10) ]\n",
    "l8"
   ]
  },
  {
   "cell_type": "code",
   "execution_count": 80,
   "id": "bc5820c2-2e6f-4740-898d-30a126e94237",
   "metadata": {},
   "outputs": [
    {
     "data": {
      "text/plain": [
       "[0, 1, 4, 9, 16, 25, 36, 49, 64, 81]"
      ]
     },
     "execution_count": 80,
     "metadata": {},
     "output_type": "execute_result"
    }
   ],
   "source": [
    "l8=[(i**2) for i in range(10) ]\n",
    "l8"
   ]
  },
  {
   "cell_type": "code",
   "execution_count": 84,
   "id": "213a2060-a547-4d07-bcb6-26040bab3b4b",
   "metadata": {},
   "outputs": [
    {
     "data": {
      "text/plain": [
       "[0.0, 0.1, 0.4, 0.9, 1.6, 2.5, 3.6, 4.9, 6.4, 8.1]"
      ]
     },
     "execution_count": 84,
     "metadata": {},
     "output_type": "execute_result"
    }
   ],
   "source": [
    "l8=[((i**2)/10) for i in range(10) ]\n",
    "l8"
   ]
  },
  {
   "cell_type": "code",
   "execution_count": 85,
   "id": "24100dd1-9040-492b-b56c-79332bd63b9b",
   "metadata": {},
   "outputs": [],
   "source": [
    "l9=[4,5,6,8,9,3,2,4,5,4,3,2,3,4]"
   ]
  },
  {
   "cell_type": "code",
   "execution_count": 86,
   "id": "e3163636-3558-4d00-bed4-29348ca41021",
   "metadata": {},
   "outputs": [
    {
     "name": "stdout",
     "output_type": "stream",
     "text": [
      "4\n",
      "5\n",
      "6\n",
      "8\n",
      "9\n",
      "3\n",
      "2\n",
      "4\n",
      "5\n",
      "4\n",
      "3\n",
      "2\n",
      "3\n",
      "4\n"
     ]
    }
   ],
   "source": [
    "for i in l9:\n",
    "    print(i)"
   ]
  },
  {
   "cell_type": "code",
   "execution_count": 87,
   "id": "f8119fcc-7233-40cd-afe5-a16818103cfa",
   "metadata": {},
   "outputs": [
    {
     "name": "stdout",
     "output_type": "stream",
     "text": [
      "62\n"
     ]
    }
   ],
   "source": [
    "population =0\n",
    "for i in l9:\n",
    "    population+=i\n",
    "print(population)"
   ]
  },
  {
   "cell_type": "code",
   "execution_count": null,
   "id": "b354c8c4-8cda-4d5d-828a-9c77c577aad0",
   "metadata": {},
   "outputs": [],
   "source": []
  }
 ],
 "metadata": {
  "kernelspec": {
   "display_name": "Python 3 (ipykernel)",
   "language": "python",
   "name": "python3"
  },
  "language_info": {
   "codemirror_mode": {
    "name": "ipython",
    "version": 3
   },
   "file_extension": ".py",
   "mimetype": "text/x-python",
   "name": "python",
   "nbconvert_exporter": "python",
   "pygments_lexer": "ipython3",
   "version": "3.12.4"
  }
 },
 "nbformat": 4,
 "nbformat_minor": 5
}
