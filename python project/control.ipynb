{
 "cells": [
  {
   "cell_type": "code",
   "execution_count": 3,
   "id": "b2b79de6-2c30-4d79-be4a-e0aadcb47d6c",
   "metadata": {},
   "outputs": [
    {
     "name": "stdin",
     "output_type": "stream",
     "text": [
      " 45\n"
     ]
    },
    {
     "name": "stdout",
     "output_type": "stream",
     "text": [
      "your are eligible\n"
     ]
    }
   ],
   "source": [
    "age =int(input())\n",
    "if age >18:\n",
    "    print (\"your are eligible\")\n",
    "else:\n",
    "    print (\"wait till u turn 18\")"
   ]
  },
  {
   "cell_type": "code",
   "execution_count": 5,
   "id": "b3d4c8d3-194e-456c-b73c-f27d152ff8dd",
   "metadata": {},
   "outputs": [
    {
     "name": "stdin",
     "output_type": "stream",
     "text": [
      " 26\n"
     ]
    },
    {
     "name": "stdout",
     "output_type": "stream",
     "text": [
      "your are eligible\n",
      "drive slow\n"
     ]
    }
   ],
   "source": [
    "age =int(input())\n",
    "if age >18:\n",
    "    if age >=65:\n",
    "        print(\"take care\")\n",
    "    else:\n",
    "        print (\"your are eligible\")\n",
    "        print (\"drive slow\")\n",
    "else:\n",
    "    print(\"wait till u turn 18\")"
   ]
  },
  {
   "cell_type": "code",
   "execution_count": 7,
   "id": "af7ddffc-9945-4946-b4fc-852c26510827",
   "metadata": {},
   "outputs": [
    {
     "name": "stdin",
     "output_type": "stream",
     "text": [
      " -1\n"
     ]
    },
    {
     "name": "stdout",
     "output_type": "stream",
     "text": [
      "negative\n"
     ]
    }
   ],
   "source": [
    "num =int(input())\n",
    "if num>0:\n",
    "    print(\"positive\")\n",
    "elif num==0:\n",
    "    print(\"zero\")\n",
    "else:\n",
    "    print (\"negative\")\n"
   ]
  },
  {
   "cell_type": "code",
   "execution_count": 8,
   "id": "7ebce116-2289-4482-b4f3-670671792ea6",
   "metadata": {},
   "outputs": [
    {
     "name": "stdout",
     "output_type": "stream",
     "text": [
      "90\n",
      "90\n",
      "100\n",
      "100\n",
      "100\n",
      "100\n"
     ]
    }
   ],
   "source": [
    "marks =[90,30,100,58,35,95]\n",
    "highest =marks[0]\n",
    "for i in marks :\n",
    "    if i>highest:\n",
    "        highest=i\n",
    "    print(highest)    "
   ]
  },
  {
   "cell_type": "code",
   "execution_count": 11,
   "id": "2d105488-6b80-407c-b81a-71434e1596c5",
   "metadata": {},
   "outputs": [
    {
     "data": {
      "text/plain": [
       "100"
      ]
     },
     "execution_count": 11,
     "metadata": {},
     "output_type": "execute_result"
    }
   ],
   "source": [
    "max(marks)"
   ]
  },
  {
   "cell_type": "code",
   "execution_count": 16,
   "id": "51bc7435-2581-4817-83bb-0af56d940d71",
   "metadata": {},
   "outputs": [
    {
     "name": "stdin",
     "output_type": "stream",
     "text": [
      " 39\n"
     ]
    },
    {
     "name": "stdout",
     "output_type": "stream",
     "text": [
      "fail\n"
     ]
    }
   ],
   "source": [
    "marks=int(input())\n",
    "if marks>=90 and marks<=100:\n",
    "    print(\"S GRADE\")\n",
    "elif marks>=80 and marks<=90:\n",
    "    print(\"A GRADE\")\n",
    "elif marks>=70 and marks<=80:\n",
    "    print(\"B GRADE\")\n",
    "elif marks>=60 and marks<=70:\n",
    "    print(\"C GRADE\")\n",
    "elif marks>=50 and marks<=60:\n",
    "    print(\"D GRADE\")\n",
    "elif marks>=40 and marks<=50:\n",
    "    print(\"E GRADE\")\n",
    "elif marks<40:\n",
    "    print(\"fail\")\n",
    "else:\n",
    "    print(\"invalid\")"
   ]
  },
  {
   "cell_type": "code",
   "execution_count": null,
   "id": "9991842a-8639-4f26-9ea6-18d034edc66c",
   "metadata": {},
   "outputs": [],
   "source": []
  }
 ],
 "metadata": {
  "kernelspec": {
   "display_name": "Python 3 (ipykernel)",
   "language": "python",
   "name": "python3"
  },
  "language_info": {
   "codemirror_mode": {
    "name": "ipython",
    "version": 3
   },
   "file_extension": ".py",
   "mimetype": "text/x-python",
   "name": "python",
   "nbconvert_exporter": "python",
   "pygments_lexer": "ipython3",
   "version": "3.12.4"
  }
 },
 "nbformat": 4,
 "nbformat_minor": 5
}
