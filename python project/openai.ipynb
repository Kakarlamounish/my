{
 "cells": [
  {
   "cell_type": "code",
   "execution_count": 3,
   "id": "b51f4c78-6d49-4947-98b4-d5c870fffecd",
   "metadata": {},
   "outputs": [],
   "source": [
    "import os\n",
    "os.environ['OPENAI_AI_KEY]'] =\""
   ]
  },
  {
   "cell_type": "code",
   "execution_count": 7,
   "id": "e5008ed9-ef65-42d1-b0be-123ab00d9d8d",
   "metadata": {},
   "outputs": [],
   "source": [
    "def generate_restaurant_name_and_items(cuisine):\n",
    "    # chain 1:Restaurant Name\n",
    "    prompt_template_name = PromptTemplate(\n",
    "        input_varaible=['cuisine'],\n",
    "        template=\"i want to open a restaurant for {cuisine} food.suggest a fancy name for this\"\n",
    "    )\n",
    "\n",
    "    name_chain = LLMChain(LLM=LLM, prompt=prompt_template_name, output_key=\"restaurant_name\")"
   ]
  },
  {
   "cell_type": "code",
   "execution_count": null,
   "id": "c8cf6495-ccce-46c1-999f-cf33f2636eca",
   "metadata": {},
   "outputs": [],
   "source": []
  },
  {
   "cell_type": "code",
   "execution_count": null,
   "id": "9d9d1b7c-6c90-4695-9ee0-8126b5ca1e41",
   "metadata": {},
   "outputs": [],
   "source": []
  }
 ],
 "metadata": {
  "kernelspec": {
   "display_name": "Python 3 (ipykernel)",
   "language": "python",
   "name": "python3"
  },
  "language_info": {
   "codemirror_mode": {
    "name": "ipython",
    "version": 3
   },
   "file_extension": ".py",
   "mimetype": "text/x-python",
   "name": "python",
   "nbconvert_exporter": "python",
   "pygments_lexer": "ipython3",
   "version": "3.12.4"
  }
 },
 "nbformat": 4,
 "nbformat_minor": 5
}
