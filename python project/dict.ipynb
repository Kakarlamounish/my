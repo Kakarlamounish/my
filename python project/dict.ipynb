{
 "cells": [
  {
   "cell_type": "code",
   "execution_count": 1,
   "id": "b11284be-40cf-47bb-a4e9-a10c2ffaeb10",
   "metadata": {},
   "outputs": [],
   "source": [
    "d=dict()"
   ]
  },
  {
   "cell_type": "code",
   "execution_count": 2,
   "id": "79b59b7c-cea5-4a6a-8704-2c782212d235",
   "metadata": {},
   "outputs": [
    {
     "name": "stdout",
     "output_type": "stream",
     "text": [
      "<class 'dict'>\n",
      "{}\n"
     ]
    }
   ],
   "source": [
    "print(type(d))\n",
    "print(d)"
   ]
  },
  {
   "cell_type": "code",
   "execution_count": 3,
   "id": "a0658da6-284f-4a20-90d2-094ad2f4c1d3",
   "metadata": {},
   "outputs": [],
   "source": [
    "fruits={\n",
    "    \"apple\":120,\n",
    "    \"orange\":100,\n",
    "    \"mango\":125,\n",
    "    \"pineapple\":135\n",
    "}"
   ]
  },
  {
   "cell_type": "code",
   "execution_count": 4,
   "id": "905d4812-ba81-4d7e-a6f1-5070203103a9",
   "metadata": {},
   "outputs": [
    {
     "data": {
      "text/plain": [
       "dict"
      ]
     },
     "execution_count": 4,
     "metadata": {},
     "output_type": "execute_result"
    }
   ],
   "source": [
    "type(fruits)"
   ]
  },
  {
   "cell_type": "code",
   "execution_count": 5,
   "id": "c7c29616-263f-4fa7-81c6-262124710240",
   "metadata": {},
   "outputs": [
    {
     "data": {
      "text/plain": [
       "3"
      ]
     },
     "execution_count": 5,
     "metadata": {},
     "output_type": "execute_result"
    }
   ],
   "source": [
    "name=[\"apple\",\"mango\",\"orange\"]\n",
    "prices=[100,200,300]\n",
    "fruits=dict(zip(name,prices))\n",
    "len(fruits)"
   ]
  },
  {
   "cell_type": "code",
   "execution_count": 12,
   "id": "53715c10-af34-48be-991e-fd3e064db003",
   "metadata": {},
   "outputs": [
    {
     "data": {
      "text/plain": [
       "100"
      ]
     },
     "execution_count": 12,
     "metadata": {},
     "output_type": "execute_result"
    }
   ],
   "source": [
    "fruits[\"apple\"]"
   ]
  },
  {
   "cell_type": "code",
   "execution_count": 13,
   "id": "03c0fe0b-75ca-46ba-9284-5a386e2d1459",
   "metadata": {},
   "outputs": [
    {
     "data": {
      "text/plain": [
       "100"
      ]
     },
     "execution_count": 13,
     "metadata": {},
     "output_type": "execute_result"
    }
   ],
   "source": [
    "fruits.get(\"apple\")"
   ]
  },
  {
   "cell_type": "code",
   "execution_count": 14,
   "id": "e2f8a159-76e6-4159-ad09-a29fc2bebe34",
   "metadata": {},
   "outputs": [
    {
     "data": {
      "text/plain": [
       "70"
      ]
     },
     "execution_count": 14,
     "metadata": {},
     "output_type": "execute_result"
    }
   ],
   "source": [
    "fruits.get(\"guvava\",\"not available\")"
   ]
  },
  {
   "cell_type": "code",
   "execution_count": 15,
   "id": "76d4ddbb-e1b4-43b0-95ce-ca880b0171b0",
   "metadata": {},
   "outputs": [],
   "source": [
    "fruits[\"pineapple\"]=80\n",
    "fruits[\"guvava\"]=70"
   ]
  },
  {
   "cell_type": "code",
   "execution_count": 16,
   "id": "903e91a7-7f5d-4821-9b88-2c12250e520b",
   "metadata": {},
   "outputs": [
    {
     "name": "stdout",
     "output_type": "stream",
     "text": [
      "{'apple': 100, 'mango': 200, 'orange': 300, 'pineapple': 80, 'guvava': 70, 'grapes': 122, 'berry': 2233, 'starwberry': 350}\n"
     ]
    }
   ],
   "source": [
    "print(fruits)"
   ]
  },
  {
   "cell_type": "code",
   "execution_count": 17,
   "id": "9e3841bb-48b8-4f1f-8b41-8c135dead102",
   "metadata": {},
   "outputs": [],
   "source": [
    "new={\"grapes\":122,\"berry\":2233,\"starwberry\":350}\n",
    "fruits.update(new)"
   ]
  },
  {
   "cell_type": "code",
   "execution_count": 18,
   "id": "968b1843-a2c5-4f32-8c94-f1c0fb13b719",
   "metadata": {},
   "outputs": [
    {
     "name": "stdout",
     "output_type": "stream",
     "text": [
      "{'apple': 100, 'mango': 200, 'orange': 300, 'pineapple': 80, 'guvava': 70, 'grapes': 122, 'berry': 2233, 'starwberry': 350}\n"
     ]
    }
   ],
   "source": [
    "print(fruits)"
   ]
  },
  {
   "cell_type": "code",
   "execution_count": 19,
   "id": "cb1af23c-d9f7-4037-a617-394fac88687a",
   "metadata": {},
   "outputs": [
    {
     "data": {
      "text/plain": [
       "True"
      ]
     },
     "execution_count": 19,
     "metadata": {},
     "output_type": "execute_result"
    }
   ],
   "source": [
    "\"berry\" in fruits"
   ]
  },
  {
   "cell_type": "raw",
   "id": "38026c0b-b31b-4c04-9cba-d49eb57965f1",
   "metadata": {},
   "source": [
    "fruits. pop ('guvava')"
   ]
  },
  {
   "cell_type": "code",
   "execution_count": 20,
   "id": "90e229ba-4d83-4c39-95fb-c3a09b0e9dca",
   "metadata": {},
   "outputs": [
    {
     "name": "stdout",
     "output_type": "stream",
     "text": [
      "{'apple': 100, 'mango': 200, 'orange': 300, 'pineapple': 80, 'guvava': 70, 'grapes': 122, 'berry': 2233, 'starwberry': 350}\n"
     ]
    }
   ],
   "source": [
    "print(fruits)"
   ]
  },
  {
   "cell_type": "raw",
   "id": "394d316b-665d-43af-bbd8-e8bfb91f439f",
   "metadata": {},
   "source": [
    "fruits.popitem()"
   ]
  },
  {
   "cell_type": "code",
   "execution_count": 21,
   "id": "9943ab49-3f89-4354-93e5-bcbda5bd2faa",
   "metadata": {},
   "outputs": [
    {
     "name": "stdout",
     "output_type": "stream",
     "text": [
      "{'apple': 100, 'mango': 200, 'orange': 300, 'pineapple': 80, 'guvava': 70, 'grapes': 122, 'berry': 2233, 'starwberry': 350}\n"
     ]
    }
   ],
   "source": [
    "print(fruits)"
   ]
  },
  {
   "cell_type": "code",
   "execution_count": 22,
   "id": "eddb7fa2-5e2c-4a8a-8e79-8bbada317210",
   "metadata": {},
   "outputs": [
    {
     "name": "stdout",
     "output_type": "stream",
     "text": [
      "apple\n",
      "mango\n",
      "orange\n",
      "pineapple\n",
      "guvava\n",
      "grapes\n",
      "berry\n",
      "starwberry\n"
     ]
    }
   ],
   "source": [
    "for i in fruits:\n",
    "    print(i)"
   ]
  },
  {
   "cell_type": "code",
   "execution_count": 23,
   "id": "6c921051-237d-4100-87b0-d07b6a17dc0a",
   "metadata": {},
   "outputs": [
    {
     "name": "stdout",
     "output_type": "stream",
     "text": [
      "apple 100\n",
      "mango 200\n",
      "orange 300\n",
      "pineapple 80\n",
      "guvava 70\n",
      "grapes 122\n",
      "berry 2233\n",
      "starwberry 350\n"
     ]
    }
   ],
   "source": [
    "for key,values in fruits.items():\n",
    "    print(key,values)"
   ]
  },
  {
   "cell_type": "code",
   "execution_count": 24,
   "id": "d7391d5d-c77d-4fe7-bf09-817bf2c95da8",
   "metadata": {},
   "outputs": [
    {
     "data": {
      "text/plain": [
       "dict_keys(['apple', 'mango', 'orange', 'pineapple', 'guvava', 'grapes', 'berry', 'starwberry'])"
      ]
     },
     "execution_count": 24,
     "metadata": {},
     "output_type": "execute_result"
    }
   ],
   "source": [
    "fruits.keys()"
   ]
  },
  {
   "cell_type": "code",
   "execution_count": 25,
   "id": "81517cc6-af25-48d1-8843-cfd10c733448",
   "metadata": {},
   "outputs": [
    {
     "data": {
      "text/plain": [
       "dict_values([100, 200, 300, 80, 70, 122, 2233, 350])"
      ]
     },
     "execution_count": 25,
     "metadata": {},
     "output_type": "execute_result"
    }
   ],
   "source": [
    "fruits.values()"
   ]
  },
  {
   "cell_type": "code",
   "execution_count": 26,
   "id": "7d95e5f6-b318-43cd-990d-2938aa92541d",
   "metadata": {},
   "outputs": [
    {
     "data": {
      "text/plain": [
       "dict_items([('apple', 100), ('mango', 200), ('orange', 300), ('pineapple', 80), ('guvava', 70), ('grapes', 122), ('berry', 2233), ('starwberry', 350)])"
      ]
     },
     "execution_count": 26,
     "metadata": {},
     "output_type": "execute_result"
    }
   ],
   "source": [
    "fruits.items()"
   ]
  },
  {
   "cell_type": "code",
   "execution_count": 1,
   "id": "d2968409-7280-4278-9cf5-2d5f1b0d4223",
   "metadata": {},
   "outputs": [
    {
     "name": "stdout",
     "output_type": "stream",
     "text": [
      "m\n",
      "o\n",
      "u\n",
      "n\n",
      "i\n"
     ]
    }
   ],
   "source": [
    "name=\"mouni\"\n",
    "for i in name:\n",
    "    print(i)"
   ]
  },
  {
   "cell_type": "code",
   "execution_count": 7,
   "id": "1cc23980-3789-48f4-ad27-7575bafeabd6",
   "metadata": {},
   "outputs": [
    {
     "name": "stdout",
     "output_type": "stream",
     "text": [
      "{'m': 1, 'o': 1, 'u': 1, 'n': 1, 'i': 1}\n"
     ]
    }
   ],
   "source": [
    "freq={}\n",
    "for i in name :\n",
    "    if i not in freq:\n",
    "        freq[i]=1\n",
    "    else:\n",
    "        freq[i]+=1\n",
    "print(freq)"
   ]
  },
  {
   "cell_type": "code",
   "execution_count": null,
   "id": "9f967e73-3431-4539-9329-b6172dfe5d7c",
   "metadata": {},
   "outputs": [],
   "source": []
  }
 ],
 "metadata": {
  "kernelspec": {
   "display_name": "Python 3 (ipykernel)",
   "language": "python",
   "name": "python3"
  },
  "language_info": {
   "codemirror_mode": {
    "name": "ipython",
    "version": 3
   },
   "file_extension": ".py",
   "mimetype": "text/x-python",
   "name": "python",
   "nbconvert_exporter": "python",
   "pygments_lexer": "ipython3",
   "version": "3.12.4"
  }
 },
 "nbformat": 4,
 "nbformat_minor": 5
}
