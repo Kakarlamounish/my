{
 "cells": [
  {
   "cell_type": "code",
   "execution_count": 1,
   "id": "912c0f8e-381e-4700-8a70-4c8a3ea58e95",
   "metadata": {},
   "outputs": [
    {
     "data": {
      "text/plain": [
       "dict"
      ]
     },
     "execution_count": 1,
     "metadata": {},
     "output_type": "execute_result"
    }
   ],
   "source": [
    "s={}\n",
    "type(s)"
   ]
  },
  {
   "cell_type": "code",
   "execution_count": 2,
   "id": "28980eeb-f8b9-42ea-9a79-3a8e745877a9",
   "metadata": {},
   "outputs": [
    {
     "name": "stdout",
     "output_type": "stream",
     "text": [
      "set()\n"
     ]
    },
    {
     "data": {
      "text/plain": [
       "set"
      ]
     },
     "execution_count": 2,
     "metadata": {},
     "output_type": "execute_result"
    }
   ],
   "source": [
    "s= set()\n",
    "print(s)\n",
    "type(s)"
   ]
  },
  {
   "cell_type": "code",
   "execution_count": 3,
   "id": "836f7e6a-3aa5-426c-b1b6-df3848f3a3eb",
   "metadata": {},
   "outputs": [
    {
     "name": "stdout",
     "output_type": "stream",
     "text": [
      "{1, 2, 3, 4, 5}\n"
     ]
    }
   ],
   "source": [
    "s={1,2,3,1,2,4,5,1,2}\n",
    "print(s)"
   ]
  },
  {
   "cell_type": "code",
   "execution_count": 4,
   "id": "053c0451-0b87-405f-9c0a-aeecf63cdb90",
   "metadata": {},
   "outputs": [
    {
     "data": {
      "text/plain": [
       "set"
      ]
     },
     "execution_count": 4,
     "metadata": {},
     "output_type": "execute_result"
    }
   ],
   "source": [
    "s=set(\"mounish\")\n",
    "type(s)"
   ]
  },
  {
   "cell_type": "code",
   "execution_count": 5,
   "id": "3c1eee91-0793-4693-bf8c-560031c3dad2",
   "metadata": {},
   "outputs": [
    {
     "name": "stdout",
     "output_type": "stream",
     "text": [
      "{'o', 'h', 'n', 's', 'm', 'i', 'u'}\n"
     ]
    }
   ],
   "source": [
    "print(s)"
   ]
  },
  {
   "cell_type": "code",
   "execution_count": 7,
   "id": "63ee6e65-77a1-4337-8d67-fb2f904b181c",
   "metadata": {},
   "outputs": [
    {
     "name": "stdout",
     "output_type": "stream",
     "text": [
      "o\n",
      "h\n",
      "n\n",
      "s\n",
      "m\n",
      "i\n",
      "u\n"
     ]
    }
   ],
   "source": [
    "for i in s:\n",
    "    print(i)"
   ]
  },
  {
   "cell_type": "code",
   "execution_count": 8,
   "id": "7b37c864-4e7e-43b1-947c-c21a59c0eed5",
   "metadata": {},
   "outputs": [],
   "source": [
    "s={1,2,3,4,5,6,7,8}"
   ]
  },
  {
   "cell_type": "code",
   "execution_count": 11,
   "id": "ea664a2a-641d-4297-af27-afd5ba49385b",
   "metadata": {},
   "outputs": [],
   "source": [
    "s.add(9)"
   ]
  },
  {
   "cell_type": "code",
   "execution_count": 12,
   "id": "720be6d7-8f85-4ecf-9327-c7d1e48f160c",
   "metadata": {},
   "outputs": [
    {
     "name": "stdout",
     "output_type": "stream",
     "text": [
      "{1, 2, 3, 4, 5, 6, 7, 8, 9}\n"
     ]
    }
   ],
   "source": [
    "print(s)"
   ]
  },
  {
   "cell_type": "code",
   "execution_count": 13,
   "id": "bc50128d-e3bd-4243-bb49-455fbae2203b",
   "metadata": {},
   "outputs": [],
   "source": [
    "name=\"RAHUL\"\n",
    "s.update(name)"
   ]
  },
  {
   "cell_type": "code",
   "execution_count": 14,
   "id": "d5390095-1a82-49dc-9b8d-2ddb1483859a",
   "metadata": {},
   "outputs": [
    {
     "name": "stdout",
     "output_type": "stream",
     "text": [
      "{1, 2, 3, 4, 5, 6, 7, 8, 9, 'U', 'L', 'A', 'H', 'R'}\n"
     ]
    }
   ],
   "source": [
    "print(s)"
   ]
  },
  {
   "cell_type": "code",
   "execution_count": 15,
   "id": "c33d3b9e-3d54-41b6-b16b-77360363abd9",
   "metadata": {},
   "outputs": [
    {
     "data": {
      "text/plain": [
       "1"
      ]
     },
     "execution_count": 15,
     "metadata": {},
     "output_type": "execute_result"
    }
   ],
   "source": [
    "s.pop()"
   ]
  },
  {
   "cell_type": "code",
   "execution_count": 16,
   "id": "b5460af5-609f-429d-aeb1-8d6d752c32f7",
   "metadata": {},
   "outputs": [
    {
     "data": {
      "text/plain": [
       "2"
      ]
     },
     "execution_count": 16,
     "metadata": {},
     "output_type": "execute_result"
    }
   ],
   "source": [
    "s.pop()"
   ]
  },
  {
   "cell_type": "code",
   "execution_count": 18,
   "id": "76423616-1c92-404f-b47e-3c667c6e099f",
   "metadata": {},
   "outputs": [],
   "source": [
    "s.remove(\"L\")"
   ]
  },
  {
   "cell_type": "code",
   "execution_count": 19,
   "id": "8ad7a49f-0234-45a7-843d-58f2fd1e6090",
   "metadata": {},
   "outputs": [
    {
     "name": "stdout",
     "output_type": "stream",
     "text": [
      "{3, 4, 5, 6, 7, 8, 9, 'U', 'A', 'H', 'R'}\n"
     ]
    }
   ],
   "source": [
    "print(s)"
   ]
  },
  {
   "cell_type": "code",
   "execution_count": 20,
   "id": "f642dfe4-a241-44e5-836e-ae95f85e8fda",
   "metadata": {},
   "outputs": [],
   "source": [
    "python={\"ironman\",\"hulk\",\"spidey\",\"antman\"}\n",
    "java={\"ironman\",\"harry\",\"kohli\",\"rohit\"}"
   ]
  },
  {
   "cell_type": "code",
   "execution_count": 21,
   "id": "51443010-6c5d-4678-b963-067a98a34968",
   "metadata": {},
   "outputs": [
    {
     "data": {
      "text/plain": [
       "{'ironman'}"
      ]
     },
     "execution_count": 21,
     "metadata": {},
     "output_type": "execute_result"
    }
   ],
   "source": [
    "python.intersection(java)"
   ]
  },
  {
   "cell_type": "code",
   "execution_count": 22,
   "id": "50d95248-1c5e-43e0-b3bd-18a63a003d18",
   "metadata": {},
   "outputs": [
    {
     "data": {
      "text/plain": [
       "{'ironman'}"
      ]
     },
     "execution_count": 22,
     "metadata": {},
     "output_type": "execute_result"
    }
   ],
   "source": [
    "java.intersection(python)"
   ]
  },
  {
   "cell_type": "code",
   "execution_count": 23,
   "id": "e0352f4d-cf32-4e61-a399-eef98176efda",
   "metadata": {},
   "outputs": [
    {
     "data": {
      "text/plain": [
       "{'antman', 'harry', 'hulk', 'ironman', 'kohli', 'rohit', 'spidey'}"
      ]
     },
     "execution_count": 23,
     "metadata": {},
     "output_type": "execute_result"
    }
   ],
   "source": [
    "python.union(java)"
   ]
  },
  {
   "cell_type": "code",
   "execution_count": 24,
   "id": "6230fedc-dd40-4bf1-bd56-41b6bcf911f1",
   "metadata": {},
   "outputs": [
    {
     "data": {
      "text/plain": [
       "{'antman', 'harry', 'hulk', 'ironman', 'kohli', 'rohit', 'spidey'}"
      ]
     },
     "execution_count": 24,
     "metadata": {},
     "output_type": "execute_result"
    }
   ],
   "source": [
    "java.union(python)"
   ]
  },
  {
   "cell_type": "code",
   "execution_count": 25,
   "id": "dc187034-a29b-4689-b35e-b64b0b877109",
   "metadata": {},
   "outputs": [
    {
     "data": {
      "text/plain": [
       "{'antman', 'hulk', 'spidey'}"
      ]
     },
     "execution_count": 25,
     "metadata": {},
     "output_type": "execute_result"
    }
   ],
   "source": [
    "python.difference(java)"
   ]
  },
  {
   "cell_type": "code",
   "execution_count": 28,
   "id": "74ef309d-4921-4127-9c3d-f107da24fb3c",
   "metadata": {},
   "outputs": [
    {
     "data": {
      "text/plain": [
       "{'harry', 'kohli', 'rohit'}"
      ]
     },
     "execution_count": 28,
     "metadata": {},
     "output_type": "execute_result"
    }
   ],
   "source": [
    "java.difference(python)"
   ]
  },
  {
   "cell_type": "code",
   "execution_count": 29,
   "id": "35f4e027-dbf5-4bf7-a152-a0628e5e2eb5",
   "metadata": {},
   "outputs": [],
   "source": [
    "sent=\"be the change you wish to see in the world\"\n",
    "s=set(sent)"
   ]
  },
  {
   "cell_type": "code",
   "execution_count": 30,
   "id": "e48bfd27-46a0-4f6f-be56-bfc6008fbe15",
   "metadata": {},
   "outputs": [
    {
     "name": "stdout",
     "output_type": "stream",
     "text": [
      "{' ', 'o', 'h', 'g', 'n', 'w', 'a', 'c', 'y', 'b', 'd', 's', 't', 'i', 'l', 'r', 'e', 'u'}\n"
     ]
    }
   ],
   "source": [
    "print(s)"
   ]
  },
  {
   "cell_type": "code",
   "execution_count": 31,
   "id": "4956c88d-c279-48f8-8cde-ef6818ec32cb",
   "metadata": {},
   "outputs": [
    {
     "data": {
      "text/plain": [
       "['be', 'the', 'change', 'you', 'wish', 'to', 'see', 'in', 'the', 'world']"
      ]
     },
     "execution_count": 31,
     "metadata": {},
     "output_type": "execute_result"
    }
   ],
   "source": [
    "lst=sent.split()\n",
    "lst"
   ]
  },
  {
   "cell_type": "code",
   "execution_count": 33,
   "id": "2bb44984-3469-4f97-a239-af5d2b9e33d1",
   "metadata": {},
   "outputs": [],
   "source": [
    "s=set(lst)"
   ]
  },
  {
   "cell_type": "code",
   "execution_count": 34,
   "id": "f2fcfa0c-b502-4aca-be7b-f882ab810b80",
   "metadata": {},
   "outputs": [
    {
     "data": {
      "text/plain": [
       "9"
      ]
     },
     "execution_count": 34,
     "metadata": {},
     "output_type": "execute_result"
    }
   ],
   "source": [
    "len(s)"
   ]
  },
  {
   "cell_type": "code",
   "execution_count": 37,
   "id": "1f6317b4-2ca9-4f7c-bfe4-fbb1b38d3e9e",
   "metadata": {},
   "outputs": [
    {
     "name": "stdout",
     "output_type": "stream",
     "text": [
      "{'see', 'be', 'world', 'the', 'you', 'to', 'wish', 'in', 'change'}\n",
      "9\n"
     ]
    }
   ],
   "source": [
    "lst=sent.split()\n",
    "s=set(lst)\n",
    "print(s)\n",
    "print(len(s))"
   ]
  },
  {
   "cell_type": "code",
   "execution_count": null,
   "id": "f1b88205-2b94-41ad-995f-928c103c0d67",
   "metadata": {},
   "outputs": [],
   "source": []
  }
 ],
 "metadata": {
  "kernelspec": {
   "display_name": "Python 3 (ipykernel)",
   "language": "python",
   "name": "python3"
  },
  "language_info": {
   "codemirror_mode": {
    "name": "ipython",
    "version": 3
   },
   "file_extension": ".py",
   "mimetype": "text/x-python",
   "name": "python",
   "nbconvert_exporter": "python",
   "pygments_lexer": "ipython3",
   "version": "3.12.4"
  }
 },
 "nbformat": 4,
 "nbformat_minor": 5
}
