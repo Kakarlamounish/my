{
 "cells": [
  {
   "cell_type": "code",
   "execution_count": 1,
   "id": "315504c1-f36c-404c-a36c-093ae446db52",
   "metadata": {},
   "outputs": [],
   "source": [
    "t=('mercury','venus','earth','mars','jupiter','saturn','uranus','neptune')"
   ]
  },
  {
   "cell_type": "code",
   "execution_count": 2,
   "id": "30fa6521-c20a-4ecf-b3f8-a62e6f0389ab",
   "metadata": {},
   "outputs": [
    {
     "data": {
      "text/plain": [
       "tuple"
      ]
     },
     "execution_count": 2,
     "metadata": {},
     "output_type": "execute_result"
    }
   ],
   "source": [
    "type(t)"
   ]
  },
  {
   "cell_type": "code",
   "execution_count": 3,
   "id": "d83650b0-57f0-4dd4-b143-75525d2d613d",
   "metadata": {},
   "outputs": [
    {
     "data": {
      "text/plain": [
       "'mercury'"
      ]
     },
     "execution_count": 3,
     "metadata": {},
     "output_type": "execute_result"
    }
   ],
   "source": [
    "t[0]"
   ]
  },
  {
   "cell_type": "code",
   "execution_count": 4,
   "id": "0d1c8bd9-f26f-409d-abd6-407d3f45e68b",
   "metadata": {},
   "outputs": [
    {
     "data": {
      "text/plain": [
       "'uranus'"
      ]
     },
     "execution_count": 4,
     "metadata": {},
     "output_type": "execute_result"
    }
   ],
   "source": [
    "t[-2]"
   ]
  },
  {
   "cell_type": "code",
   "execution_count": 5,
   "id": "d5e07e45-08d2-4958-8806-e2a0646ba246",
   "metadata": {},
   "outputs": [
    {
     "data": {
      "text/plain": [
       "('mercury', 'venus', 'earth')"
      ]
     },
     "execution_count": 5,
     "metadata": {},
     "output_type": "execute_result"
    }
   ],
   "source": [
    "t[0:3]"
   ]
  },
  {
   "cell_type": "code",
   "execution_count": 6,
   "id": "6adbd9b3-6b1a-45fe-9860-38c325804c4e",
   "metadata": {},
   "outputs": [],
   "source": [
    "t1=(\"mouni\",2,22.4,False)"
   ]
  },
  {
   "cell_type": "code",
   "execution_count": 7,
   "id": "896d5135-9f15-477b-a845-6ecaabfd90e9",
   "metadata": {},
   "outputs": [
    {
     "data": {
      "text/plain": [
       "tuple"
      ]
     },
     "execution_count": 7,
     "metadata": {},
     "output_type": "execute_result"
    }
   ],
   "source": [
    "type(t1)"
   ]
  },
  {
   "cell_type": "code",
   "execution_count": 8,
   "id": "e438a860-df82-4b53-84fa-f6ef2714cb07",
   "metadata": {},
   "outputs": [
    {
     "data": {
      "text/plain": [
       "float"
      ]
     },
     "execution_count": 8,
     "metadata": {},
     "output_type": "execute_result"
    }
   ],
   "source": [
    "type(t1[2])"
   ]
  },
  {
   "cell_type": "code",
   "execution_count": 11,
   "id": "c7766907-2540-41b7-85b9-f91290a31d4b",
   "metadata": {},
   "outputs": [],
   "source": [
    "t3=('string',)"
   ]
  },
  {
   "cell_type": "code",
   "execution_count": 12,
   "id": "d6b4406a-f8f8-4fab-9eb7-74dc796dc5ba",
   "metadata": {},
   "outputs": [
    {
     "data": {
      "text/plain": [
       "tuple"
      ]
     },
     "execution_count": 12,
     "metadata": {},
     "output_type": "execute_result"
    }
   ],
   "source": [
    "type(t3)"
   ]
  },
  {
   "cell_type": "code",
   "execution_count": 13,
   "id": "cad3bf0f-4fbc-40fb-9dc9-5712d47f36b7",
   "metadata": {},
   "outputs": [
    {
     "data": {
      "text/plain": [
       "('m', 'o', 'u', 'n', 'i', 's', 'h', 'n', 'a', 'i', 'd', 'u')"
      ]
     },
     "execution_count": 13,
     "metadata": {},
     "output_type": "execute_result"
    }
   ],
   "source": [
    "t4=tuple(\"mounishnaidu\")\n",
    "t4\n"
   ]
  },
  {
   "cell_type": "code",
   "execution_count": 15,
   "id": "46da931f-99d7-49c9-bcd4-4d8b0eae2b52",
   "metadata": {},
   "outputs": [
    {
     "name": "stdout",
     "output_type": "stream",
     "text": [
      "2\n",
      "<class 'tuple'> ([1, 2], [3, 4])\n"
     ]
    }
   ],
   "source": [
    "t5=([1,2],[3,4])\n",
    "print(len(t5))\n",
    "print(type(t5),t5)"
   ]
  },
  {
   "cell_type": "code",
   "execution_count": 16,
   "id": "61f3e213-d440-45d0-99d4-542e5af0c483",
   "metadata": {},
   "outputs": [],
   "source": [
    "t6=([1,2,3,4],[5,6,7,8])"
   ]
  },
  {
   "cell_type": "code",
   "execution_count": 17,
   "id": "4ac40ab0-189f-4bbc-9191-5ba8cc8b524f",
   "metadata": {},
   "outputs": [],
   "source": [
    "t6[0][3]=5"
   ]
  },
  {
   "cell_type": "code",
   "execution_count": 18,
   "id": "09f16e6f-20ac-4cb5-82ae-0c53bb9e4bff",
   "metadata": {},
   "outputs": [
    {
     "data": {
      "text/plain": [
       "([1, 2, 3, 5], [5, 6, 7, 8])"
      ]
     },
     "execution_count": 18,
     "metadata": {},
     "output_type": "execute_result"
    }
   ],
   "source": [
    "t6"
   ]
  },
  {
   "cell_type": "code",
   "execution_count": 20,
   "id": "e900934a-e10d-4eca-88cc-a1fb5f245a70",
   "metadata": {},
   "outputs": [],
   "source": [
    "t7=(1,2,3,4)"
   ]
  },
  {
   "cell_type": "code",
   "execution_count": 22,
   "id": "fbea0461-af75-461a-aa46-5e317474a04f",
   "metadata": {},
   "outputs": [
    {
     "name": "stdout",
     "output_type": "stream",
     "text": [
      "1 2 3 4\n"
     ]
    }
   ],
   "source": [
    "a,b,c,d=t7\n",
    "print(a,b,c,d)"
   ]
  },
  {
   "cell_type": "code",
   "execution_count": 23,
   "id": "592477da-245e-414c-802d-9bdb90e7cea1",
   "metadata": {},
   "outputs": [
    {
     "data": {
      "text/plain": [
       "1"
      ]
     },
     "execution_count": 23,
     "metadata": {},
     "output_type": "execute_result"
    }
   ],
   "source": [
    "t7.count(3)"
   ]
  },
  {
   "cell_type": "code",
   "execution_count": 24,
   "id": "7ca89bb5-21c4-4181-86ec-e4b4b3904433",
   "metadata": {},
   "outputs": [
    {
     "data": {
      "text/plain": [
       "2"
      ]
     },
     "execution_count": 24,
     "metadata": {},
     "output_type": "execute_result"
    }
   ],
   "source": [
    "t7.index(3)"
   ]
  },
  {
   "cell_type": "code",
   "execution_count": 26,
   "id": "0c4e2493-50e8-4ff2-b0b3-3be7b7e4bbf8",
   "metadata": {},
   "outputs": [
    {
     "name": "stdout",
     "output_type": "stream",
     "text": [
      "1\n",
      "4\n",
      "9\n",
      "16\n"
     ]
    }
   ],
   "source": [
    "for i in t7:\n",
    "    print(i**2)"
   ]
  },
  {
   "cell_type": "code",
   "execution_count": 27,
   "id": "ea5cf0e4-005a-4236-906e-edd589c4e48e",
   "metadata": {},
   "outputs": [],
   "source": [
    "t8=(5,6,7)"
   ]
  },
  {
   "cell_type": "code",
   "execution_count": 28,
   "id": "3d3f3f6a-3d2e-4ffa-a2f5-bac4bc1aaf3d",
   "metadata": {},
   "outputs": [],
   "source": [
    "t9=t7+t8"
   ]
  },
  {
   "cell_type": "code",
   "execution_count": 29,
   "id": "52201f14-a9bf-4eb2-ab99-6029ad8a0649",
   "metadata": {},
   "outputs": [
    {
     "data": {
      "text/plain": [
       "(1, 2, 3, 4, 5, 6, 7)"
      ]
     },
     "execution_count": 29,
     "metadata": {},
     "output_type": "execute_result"
    }
   ],
   "source": [
    "t9"
   ]
  },
  {
   "cell_type": "code",
   "execution_count": 30,
   "id": "00911b54-d80d-494f-a59b-4b47443d845a",
   "metadata": {},
   "outputs": [
    {
     "data": {
      "text/plain": [
       "(1, 2, 3, 4, 5, 6, 7, 1, 2, 3, 4, 5, 6, 7)"
      ]
     },
     "execution_count": 30,
     "metadata": {},
     "output_type": "execute_result"
    }
   ],
   "source": [
    "t9*2"
   ]
  },
  {
   "cell_type": "code",
   "execution_count": 31,
   "id": "0db75bd3-7271-42c8-83bb-4c1eb0c6d909",
   "metadata": {},
   "outputs": [
    {
     "data": {
      "text/plain": [
       "list"
      ]
     },
     "execution_count": 31,
     "metadata": {},
     "output_type": "execute_result"
    }
   ],
   "source": [
    "lst=list(t9)\n",
    "type(lst)"
   ]
  },
  {
   "cell_type": "code",
   "execution_count": 33,
   "id": "d97bd67d-142d-4980-a1d3-dc11b69ecee1",
   "metadata": {},
   "outputs": [],
   "source": [
    "t9=tuple(lst)"
   ]
  },
  {
   "cell_type": "code",
   "execution_count": 34,
   "id": "5a4ad5bc-5d49-4eed-acbc-ed372cc570e1",
   "metadata": {},
   "outputs": [
    {
     "data": {
      "text/plain": [
       "tuple"
      ]
     },
     "execution_count": 34,
     "metadata": {},
     "output_type": "execute_result"
    }
   ],
   "source": [
    "type(t9)"
   ]
  },
  {
   "cell_type": "code",
   "execution_count": 35,
   "id": "faeca270-a861-4d38-a9df-f9c49779a63c",
   "metadata": {},
   "outputs": [
    {
     "data": {
      "text/plain": [
       "(1, 2, 3, 4, 5, 6, 7)"
      ]
     },
     "execution_count": 35,
     "metadata": {},
     "output_type": "execute_result"
    }
   ],
   "source": [
    "t9"
   ]
  },
  {
   "cell_type": "code",
   "execution_count": null,
   "id": "2f1f6c1d-9682-4b75-a99a-5ecb877afd1a",
   "metadata": {},
   "outputs": [],
   "source": [
    "z\n"
   ]
  },
  {
   "cell_type": "code",
   "execution_count": 1,
   "id": "7537f2c9-0776-4a9f-9359-ba0f0b4f7630",
   "metadata": {},
   "outputs": [],
   "source": [
    "def fun1(name,age):\n",
    "    print(name,age)"
   ]
  },
  {
   "cell_type": "code",
   "execution_count": 6,
   "id": "05f637d1-37f5-47fc-96dc-c8eb61a3938e",
   "metadata": {},
   "outputs": [
    {
     "name": "stdin",
     "output_type": "stream",
     "text": [
      " 1\n",
      " 5\n"
     ]
    },
    {
     "name": "stdout",
     "output_type": "stream",
     "text": [
      "78.54\n"
     ]
    }
   ],
   "source": [
    "def calculate_area(radius):\n",
    "    pi = 3.14159\n",
    "    area = pi * (radius ** 2)\n",
    "    return round(area, 2)\n",
    "\n",
    "# Reading the number of test cases\n",
    "num_test_cases = int(input())\n",
    "\n",
    "# Loop through each test case and calculate the area\n",
    "for _ in range(num_test_cases):\n",
    "    radius = int(input())\n",
    "    print(calculate_area(radius))\n"
   ]
  },
  {
   "cell_type": "code",
   "execution_count": null,
   "id": "7947c574-8fdb-4d5e-b7d4-e4fd78cf9fc9",
   "metadata": {},
   "outputs": [],
   "source": []
  }
 ],
 "metadata": {
  "kernelspec": {
   "display_name": "Python 3 (ipykernel)",
   "language": "python",
   "name": "python3"
  },
  "language_info": {
   "codemirror_mode": {
    "name": "ipython",
    "version": 3
   },
   "file_extension": ".py",
   "mimetype": "text/x-python",
   "name": "python",
   "nbconvert_exporter": "python",
   "pygments_lexer": "ipython3",
   "version": "3.12.4"
  }
 },
 "nbformat": 4,
 "nbformat_minor": 5
}
